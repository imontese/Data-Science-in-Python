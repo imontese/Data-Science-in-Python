{
 "metadata": {
  "language_info": {
   "codemirror_mode": {
    "name": "ipython",
    "version": 3
   },
   "file_extension": ".py",
   "mimetype": "text/x-python",
   "name": "python",
   "nbconvert_exporter": "python",
   "pygments_lexer": "ipython3",
   "version": "3.7.5"
  },
  "orig_nbformat": 4,
  "kernelspec": {
   "name": "python3",
   "display_name": "Python 3.7.5 64-bit"
  },
  "interpreter": {
   "hash": "2e2df4439ad808530c47ce630b023a5e094d8a4d9df0f717b811262304fb64b1"
  }
 },
 "nbformat": 4,
 "nbformat_minor": 2,
 "cells": [
  {
   "source": [
    "# Assignment 3\n",
    "All questions are weighted the same in this assignment. This assignment requires more individual learning then the last one did - you are encouraged to check out the [pandas documentation](http://pandas.pydata.org/pandas-docs/stable/) to find functions or methods you might not have used yet, or ask questions on [Stack Overflow](http://stackoverflow.com/) and tag them as pandas and python related. All questions are worth the same number of points except question 1 which is worth 17% of the assignment grade.\n",
    "\n",
    "**Note**: Questions 3-13 rely on your question 1 answer."
   ],
   "cell_type": "markdown",
   "metadata": {}
  },
  {
   "cell_type": "code",
   "execution_count": null,
   "metadata": {},
   "outputs": [],
   "source": [
    "import pandas as pd\n",
    "import numpy as np\n",
    "\n",
    "# Filter all warnings. If you would like to see the warnings, please comment the two lines below.\n",
    "import warnings\n",
    "warnings.filterwarnings('ignore')"
   ]
  },
  {
   "source": [
    "## Question 1\n",
    "Load the energy data from the file assets/Energy Indicators.xls, which is a list of indicators of energy supply and renewable electricity production from the United Nations for the year 2013, and should be put into a DataFrame with the variable name of Energy.\n",
    "\n",
    "Keep in mind that this is an Excel file, and not a comma separated values file. Also, make sure to exclude the footer and header information from the datafile. The first two columns are unneccessary, so you should get rid of them, and you should change the column labels so that the columns are:\n",
    "\n",
    "['Country', 'Energy Supply', 'Energy Supply per Capita', '% Renewable]\n",
    "\n",
    "Convert Energy Supply to gigajoules (Note: there are 1,000,000 gigajoules in a petajoule). For all countries which have missing data (e.g. data with \"...\") make sure this is reflected as np.NaN values.\n",
    "\n",
    "Rename the following list of countries (for use in later questions):\n",
    "\n",
    "\"Republic of Korea\": \"South Korea\",\n",
    "\"United States of America\": \"United States\",\n",
    "\"United Kingdom of Great Britain and Northern Ireland\": \"United Kingdom\",\n",
    "\"China, Hong Kong Special Administrative Region\": \"Hong Kong\"\n",
    "\n",
    "There are also several countries with numbers and/or parenthesis in their name. Be sure to remove these, e.g. 'Bolivia (Plurinational State of)' should be 'Bolivia'. 'Switzerland17' should be 'Switzerland'.\n",
    "\n",
    "Next, load the GDP data from the file assets/world_bank.csv, which is a csv containing countries' GDP from 1960 to 2015 from World Bank. Call this DataFrame GDP.\n",
    "\n",
    "Make sure to skip the header, and rename the following list of countries:\n",
    "\n",
    "\"Korea, Rep.\": \"South Korea\", \n",
    "\"Iran, Islamic Rep.\": \"Iran\",\n",
    "\"Hong Kong SAR, China\": \"Hong Kong\"\n",
    "\n",
    "Finally, load the Sciamgo Journal and Country Rank data for Energy Engineering and Power Technology from the file assets/scimagojr-3.xlsx, which ranks countries based on their journal contributions in the aforementioned area. Call this DataFrame ScimEn.\n",
    "\n",
    "Join the three datasets: GDP, Energy, and ScimEn into a new dataset (using the intersection of country names). Use only the last 10 years (2006-2015) of GDP data and only the top 15 countries by Scimagojr 'Rank' (Rank 1 through 15).\n",
    "\n",
    "The index of this DataFrame should be the name of the country, and the columns should be ['Rank', 'Documents', 'Citable documents', 'Citations', 'Self-citations', 'Citations per document', 'H index', 'Energy Supply', 'Energy Supply per Capita', '% Renewable', '2006', '2007', '2008', '2009', '2010', '2011', '2012', '2013', '2014', '2015'].\n",
    "\n",
    "This function should return a DataFrame with 20 columns and 15 entries, and the rows of the DataFrame should be sorted by \"Rank\"."
   ],
   "cell_type": "markdown",
   "metadata": {}
  },
  {
   "cell_type": "code",
   "execution_count": null,
   "metadata": {},
   "outputs": [],
   "source": [
    "def answer_one():\n",
    "    # YOUR CODE HERE\n",
    "    \n",
    "    # load Energy file\n",
    "    xls = pd.ExcelFile('assets/Energy Indicators.xls')\n",
    "    Energy = xls.parse('Energy', skiprows=17)\n",
    "    Energy = Energy.drop(Energy.columns[[0,1]], axis=1)\n",
    "    Energy.columns = ['Country', 'Energy Supply', 'Energy Supply per Capita', '% Renewable']\n",
    "    \n",
    "    # replacing '...' with 'NaN'\n",
    "    Energy[['Energy Supply', 'Energy Supply per Capita']] = Energy[['Energy Supply', 'Energy Supply per Capita']].replace('...', np.NaN, regex=True)\n",
    "\n",
    "    # convert 'Energy Supply' to gigajoules\n",
    "    Energy['Energy Supply'] = Energy['Energy Supply'].apply(lambda x: x * 1000000)\n",
    "\n",
    "    # removing numbers from Country names column\n",
    "    Energy['Country'] = Energy['Country'].str.replace('\\d+', '')\n",
    "\n",
    "    #removing extra infomrtaion from 'Country' column\n",
    "    Energy['Country'] = Energy['Country'].str.replace(' \\(.*\\)', '')\n",
    "    \n",
    "    # rename list of the countries\n",
    "    Energy['Country'] = Energy['Country'].replace(\"Republic of Korea\", \"South Korea\").replace(\"United States of America\", \"United States\").replace(\"United Kingdom of Great Britain and Northern Ireland\", \"United Kingdom\").replace(\"China, Hong Kong Special Administrative Region\", \"Hong Kong\")\n",
    "\n",
    "    # load GDP file\n",
    "    GDP = pd.read_csv('assets/world_bank.csv', skiprows=4)\n",
    "\n",
    "    # replace in columns label ' ' with '_'\n",
    "    GDP.columns = GDP.columns.str.replace(' ', '_')\n",
    "\n",
    "    # rename the countries \n",
    "    GDP = GDP.replace(\"Korea, Rep.\", \"South Korea\").replace( \n",
    "                      \"Iran, Islamic Rep.\", \"Iran\").replace(\n",
    "                      \"Hong Kong SAR, China\", \"Hong Kong\") \n",
    "\n",
    "    # select colun to display\n",
    "    GDP = GDP.rename(columns={'Country_Name': 'Country'})\n",
    "    GDP = GDP.loc[:,['Country', '2006', '2007', '2008', '2009', '2010', '2011', '2012', '2013', '2014', '2015']]\n",
    "    \n",
    "    # load scimagojr-3 file\n",
    "    xlsx = pd.ExcelFile('assets/scimagojr-3.xlsx')\n",
    "    ScimEn = xlsx.parse('Sheet1')\n",
    "\n",
    "    ScimEn = ScimEn.loc[0:14,:]\n",
    "    \n",
    "    # set index 'Country'\n",
    "    ScimEn = ScimEn.set_index('Country')\n",
    "    GDP = GDP.set_index('Country')\n",
    "    Energy = Energy.set_index('Country')\n",
    "    \n",
    "    # merge 'ScimEn' 'Energy' 'GDP'\n",
    "    df = pd.merge(pd.merge(ScimEn, Energy, how='inner', left_index=True, right_index=True), GDP, how='inner', left_index=True,    \n",
    "         right_index=True)\n",
    "\n",
    "    df = df.sort_values(by=['Rank'])\n",
    "    \n",
    "    return df\n",
    "    \n",
    "    #raise NotImplementedError()"
   ]
  },
  {
   "cell_type": "code",
   "execution_count": null,
   "metadata": {},
   "outputs": [],
   "source": [
    "assert type(answer_one()) == pd.DataFrame, \"Q1: You should return a DataFrame!\"\n",
    "\n",
    "assert answer_one().shape == (15,20), \"Q1: Your DataFrame should have 20 columns and 15 entries!\""
   ]
  },
  {
   "cell_type": "code",
   "execution_count": null,
   "metadata": {},
   "outputs": [],
   "source": [
    "# Cell for autograder."
   ]
  },
  {
   "cell_type": "code",
   "execution_count": null,
   "metadata": {},
   "outputs": [],
   "source": [
    "#Energy.loc[Energy.Country == 'United States of America', :]"
   ]
  },
  {
   "source": [
    "## Question 2\n",
    "The previous question joined three datasets then reduced this to just the top 15 entries. When you joined the datasets, but before you reduced this to the top 15 items, how many entries did you lose?\n",
    "\n",
    "This function should return a single number."
   ],
   "cell_type": "markdown",
   "metadata": {}
  },
  {
   "cell_type": "code",
   "execution_count": null,
   "metadata": {},
   "outputs": [],
   "source": [
    "%%HTML\n",
    "<svg width=\"800\" height=\"300\">\n",
    "  <circle cx=\"150\" cy=\"180\" r=\"80\" fill-opacity=\"0.2\" stroke=\"black\" stroke-width=\"2\" fill=\"blue\" />\n",
    "  <circle cx=\"200\" cy=\"100\" r=\"80\" fill-opacity=\"0.2\" stroke=\"black\" stroke-width=\"2\" fill=\"red\" />\n",
    "  <circle cx=\"100\" cy=\"100\" r=\"80\" fill-opacity=\"0.2\" stroke=\"black\" stroke-width=\"2\" fill=\"green\" />\n",
    "  <line x1=\"150\" y1=\"125\" x2=\"300\" y2=\"150\" stroke=\"black\" stroke-width=\"2\" fill=\"black\" stroke-dasharray=\"5,3\"/>\n",
    "  <text x=\"300\" y=\"165\" font-family=\"Verdana\" font-size=\"35\">Everything but this!</text>\n",
    "</svg>"
   ]
  },
  {
   "cell_type": "code",
   "execution_count": null,
   "metadata": {},
   "outputs": [],
   "source": [
    "def answer_two():\n",
    "    # YOUR CODE HERE\n",
    "    # load scimagojr-3 file\n",
    "    xlsx = pd.ExcelFile('assets/scimagojr-3.xlsx')\n",
    "    ScimEn = xlsx.parse('Sheet1')\n",
    "\n",
    "    diff = ScimEn.shape[0] - answer_one().shape[0]\n",
    "    \n",
    "    return diff\n",
    "    #raise NotImplementedError()"
   ]
  },
  {
   "cell_type": "code",
   "execution_count": null,
   "metadata": {},
   "outputs": [],
   "source": [
    "assert type(answer_two()) == int, \"Q2: You should return an int number!\""
   ]
  },
  {
   "source": [
    "## Question 3\n",
    "What are the top 15 countries for average GDP over the last 10 years?\n",
    "\n",
    "This function should return a Series named avgGDP with 15 countries and their average GDP sorted in descending order."
   ],
   "cell_type": "markdown",
   "metadata": {}
  },
  {
   "cell_type": "code",
   "execution_count": null,
   "metadata": {},
   "outputs": [],
   "source": [
    "def answer_three():\n",
    "    # YOUR CODE HERE\n",
    "    GDP_mean = answer_one().loc[:,'2006':'2015'].mean(axis=1).sort_values(ascending=False)\n",
    "    return GDP_mean\n",
    "   # raise NotImplementedError()"
   ]
  },
  {
   "cell_type": "code",
   "execution_count": null,
   "metadata": {},
   "outputs": [],
   "source": [
    "assert type(answer_three()) == pd.Series, \"Q3: You should return a Series!\""
   ]
  },
  {
   "source": [
    "## Question 4\n",
    "By how much had the GDP changed over the 10 year span for the country with the 6th largest average GDP?\n",
    "\n",
    "This function should return a single number."
   ],
   "cell_type": "markdown",
   "metadata": {}
  },
  {
   "cell_type": "code",
   "execution_count": null,
   "metadata": {},
   "outputs": [],
   "source": [
    "def answer_four():\n",
    "    # YOUR CODE HERE\n",
    "    GDP_mean = answer_one()\n",
    "    GDP_mean['mean'] = GDP_mean.loc[:,'2006':'2015'].mean(axis=1)\n",
    "    GDP_mean = GDP_mean.iloc[:,10:].sort_values(by=['mean'],ascending=False)\n",
    "\n",
    "    GDP_dif = GDP_mean.iloc[5,9] - GDP_mean.iloc[5,0]\n",
    "\n",
    "    return GDP_dif\n",
    "    #raise NotImplementedError()\n",
    "\n"
   ]
  },
  {
   "source": [
    "# Cell for autograder."
   ],
   "cell_type": "markdown",
   "metadata": {}
  },
  {
   "source": [
    "## Question 5\n",
    "What is the mean energy supply per capita?\n",
    "\n",
    "This function should return a single number."
   ],
   "cell_type": "markdown",
   "metadata": {}
  },
  {
   "cell_type": "code",
   "execution_count": null,
   "metadata": {},
   "outputs": [],
   "source": [
    "def answer_five():\n",
    "    # YOUR CODE HERE\n",
    "    supply_per_capital_mean = answer_one()['Energy Supply per Capita'].mean()\n",
    "    return supply_per_capital_mean\n",
    "    #raise NotImplementedError()"
   ]
  },
  {
   "cell_type": "code",
   "execution_count": null,
   "metadata": {},
   "outputs": [],
   "source": [
    "# Cell for autograder."
   ]
  },
  {
   "source": [
    "## Question 6\n",
    "What country has the maximum % Renewable and what is the percentage?\n",
    "\n",
    "This function should return a tuple with the name of the country and the percentage."
   ],
   "cell_type": "markdown",
   "metadata": {}
  },
  {
   "cell_type": "code",
   "execution_count": null,
   "metadata": {},
   "outputs": [],
   "source": [
    "def answer_six():\n",
    "    id = answer_one()['% Renewable'].idxmax()\n",
    "    max = answer_one()['% Renewable'].max()\n",
    "    return id, max\n",
    "    #raise NotImplementedError()"
   ]
  },
  {
   "cell_type": "code",
   "execution_count": null,
   "metadata": {},
   "outputs": [],
   "source": [
    "assert type(answer_six()) == tuple, \"Q6: You should return a tuple!\"\n",
    "\n",
    "assert type(answer_six()[0]) == str, \"Q6: The first element in your result should be the name of the country!\"\n"
   ]
  },
  {
   "source": [
    "## Question 7\n",
    "Create a new column that is the ratio of Self-Citations to Total Citations. What is the maximum value for this new column, and what country has the highest ratio?\n",
    "\n",
    "This function should return a tuple with the name of the country and the ratio."
   ],
   "cell_type": "markdown",
   "metadata": {}
  },
  {
   "cell_type": "code",
   "execution_count": null,
   "metadata": {},
   "outputs": [],
   "source": [
    "def answer_seven():\n",
    "    # YOUR CODE HERE\n",
    "    gdp_citations = answer_one()\n",
    "    gdp_citations['Citations Ratio'] = gdp_citations['Self-citations']/gdp_citations['Citations']\n",
    "    max = gdp_citations['Citations Ratio'].max()\n",
    "    id = gdp_citations['Citations Ratio'].idxmax()\n",
    "    return id, max\n",
    "    #raise NotImplementedError()"
   ]
  },
  {
   "cell_type": "code",
   "execution_count": null,
   "metadata": {},
   "outputs": [],
   "source": [
    "assert type(answer_seven()) == tuple, \"Q7: You should return a tuple!\"\n",
    "\n",
    "assert type(answer_seven()[0]) == str, \"Q7: The first element in your result should be the name of the country!\"\n"
   ]
  },
  {
   "source": [
    "## Question 8\n",
    "Create a column that estimates the population using Energy Supply and Energy Supply per capita. What is the third most populous country according to this estimate?\n",
    "\n",
    "This function should return the name of the country"
   ],
   "cell_type": "markdown",
   "metadata": {}
  },
  {
   "cell_type": "code",
   "execution_count": null,
   "metadata": {},
   "outputs": [],
   "source": [
    "def answer_eight():\n",
    "    # YOUR CODE HERE\n",
    "    energy = answer_one()\n",
    "    energy['Energy Estimation'] = energy['Energy Supply']/energy['Energy Supply per Capita']\n",
    "    id = energy['Energy Estimation'].idxmax()\n",
    "    return id\n",
    "    #raise NotImplementedError()\n"
   ]
  },
  {
   "cell_type": "code",
   "execution_count": null,
   "metadata": {},
   "outputs": [],
   "source": [
    "assert type(answer_eight()) == str, \"Q8: You should return the name of the country!\""
   ]
  },
  {
   "source": [
    "## Question 9\n",
    "Create a column that estimates the number of citable documents per person. What is the correlation between the number of citable documents per capita and the energy supply per capita? Use the .corr() method, (Pearson's correlation).\n",
    "\n",
    "This function should return a single number.\n",
    "\n",
    "(Optional: Use the built-in function plot9() to visualize the relationship between Energy Supply per Capita vs. Citable docs per Capita)"
   ],
   "cell_type": "markdown",
   "metadata": {}
  },
  {
   "cell_type": "code",
   "execution_count": null,
   "metadata": {},
   "outputs": [],
   "source": [
    "def answer_nine():\n",
    "    Top15 = answer_one()\n",
    "    Top15 = Top15.assign(PopEst = Top15['Energy Supply']/Top15['Energy Supply per Capita'])\n",
    "    Top15 = Top15.assign(Citable_docs_per_Capita = Top15['Citable documents'] / Top15['PopEst'])\n",
    "    correlation = Top15['Citable_docs_per_Capita'].corr(Top15['Energy Supply per Capita'])\n",
    "    return correlation\n",
    "    #raise NotImplementedError()"
   ]
  },
  {
   "cell_type": "code",
   "execution_count": null,
   "metadata": {},
   "outputs": [],
   "source": [
    "def plot9():\n",
    "    import matplotlib as plt\n",
    "    %matplotlib inline\n",
    "    \n",
    "    Top15 = answer_one()\n",
    "    Top15['PopEst'] = Top15['Energy Supply'] / Top15['Energy Supply per Capita']\n",
    "    Top15['Citable docs per Capita'] = Top15['Citable documents'] / Top15['PopEst']\n",
    "    Top15.plot(x='Citable docs per Capita', y='Energy Supply per Capita', kind='scatter', xlim=[0, 0.0006])"
   ]
  },
  {
   "cell_type": "code",
   "execution_count": null,
   "metadata": {},
   "outputs": [],
   "source": [
    "assert answer_nine() >= -1. and answer_nine() <= 1., \"Q9: A valid correlation should between -1 to 1!\""
   ]
  },
  {
   "cell_type": "code",
   "execution_count": null,
   "metadata": {},
   "outputs": [],
   "source": [
    "plot9()"
   ]
  },
  {
   "source": [
    "## Question 10\n",
    "Create a new column with a 1 if the country's % Renewable value is at or above the median for all countries in the top 15, and a 0 if the country's % Renewable value is below the median.\n",
    "\n",
    "This function should return a series named HighRenew whose index is the country name sorted in ascending order of rank."
   ],
   "cell_type": "markdown",
   "metadata": {}
  },
  {
   "cell_type": "code",
   "execution_count": null,
   "metadata": {},
   "outputs": [],
   "source": [
    "def answer_ten():\n",
    "    # YOUR CODE HERE\n",
    "    import statistics\n",
    "\n",
    "    Top15 = answer_one()\n",
    "    mean = statistics.median(Top15['% Renewable'])\n",
    "    Top15['HighRenew'] = Top15['% Renewable'].apply(lambda x: 1 if x >= mean else 0)\n",
    "    return Top15['HighRenew']\n",
    "    #raise NotImplementedError()"
   ]
  },
  {
   "cell_type": "code",
   "execution_count": null,
   "metadata": {},
   "outputs": [],
   "source": [
    "assert type(answer_ten()) == pd.Series, \"Q10: You should return a Series!\""
   ]
  },
  {
   "source": [
    "## Question 11\n",
    "Use the following dictionary to group the Countries by Continent, then create a DataFrame that displays the sample size (the number of countries in each continent bin), and the sum, mean, and std deviation for the estimated population of each country.\n",
    "\n",
    "ContinentDict  = {'China':'Asia', \n",
    "                  'United States':'North America', \n",
    "                  'Japan':'Asia', \n",
    "                  'United Kingdom':'Europe', \n",
    "                  'Russian Federation':'Europe', \n",
    "                  'Canada':'North America', \n",
    "                  'Germany':'Europe', \n",
    "                  'India':'Asia',\n",
    "                  'France':'Europe', \n",
    "                  'South Korea':'Asia', \n",
    "                  'Italy':'Europe', \n",
    "                  'Spain':'Europe', \n",
    "                  'Iran':'Asia',\n",
    "                  'Australia':'Australia', \n",
    "                  'Brazil':'South America'}\n",
    "\n",
    "This function should return a DataFrame with index named Continent ['Asia', 'Australia', 'Europe', 'North America', 'South America'] and columns ['size', 'sum', 'mean', 'std']"
   ],
   "cell_type": "markdown",
   "metadata": {}
  },
  {
   "cell_type": "code",
   "execution_count": null,
   "metadata": {},
   "outputs": [],
   "source": [
    "def answer_eleven():\n",
    "    # YOUR CODE HERE\n",
    "    Top15 = answer_one()\n",
    "    # continent dict\n",
    "    ContinentDict = {'China':'Asia', \n",
    "                    'United States':'North America', \n",
    "                    'Japan':'Asia', \n",
    "                    'United Kingdom':'Europe', \n",
    "                    'Russian Federation':'Europe', \n",
    "                    'Canada':'North America', \n",
    "                    'Germany':'Europe', \n",
    "                    'India':'Asia',\n",
    "                    'France':'Europe', \n",
    "                    'South Korea':'Asia', \n",
    "                    'Italy':'Europe', \n",
    "                    'Spain':'Europe', \n",
    "                    'Iran':'Asia',\n",
    "                    'Australia':'Australia', \n",
    "                    'Brazil':'South America'}\n",
    "    # convert dict to dataframe\n",
    "    Continent = pd.DataFrame.from_dict(ContinentDict, orient='index', columns=['Continent'])\n",
    "    # merge df Top15 and Continent\n",
    "    Top15 = pd.merge(Top15, Continent, how='inner', left_index=True, right_index=True)\n",
    "    # add pop column \n",
    "    Top15['pop'] = Top15['Energy Supply'] / Top15['Energy Supply per Capita']\n",
    "    # get size, sum, mean and std \n",
    "    df = Top15.groupby(\"Continent\").agg({\"Continent\":np.size,\"pop\":(np.sum,np.mean,np.std)})\n",
    "    df.reset_index(drop=True, inplace=False)\n",
    "    return df\n",
    "    #raise NotImplementedError()\n",
    "\n",
    "answer_eleven()"
   ]
  },
  {
   "cell_type": "code",
   "execution_count": null,
   "metadata": {},
   "outputs": [],
   "source": [
    "assert type(answer_eleven()) == pd.DataFrame, \"Q11: You should return a DataFrame!\"\n",
    "\n",
    "assert answer_eleven().shape[0] == 5, \"Q11: Wrong row numbers!\"\n",
    "\n",
    "assert answer_eleven().shape[1] == 4, \"Q11: Wrong column numbers!\"\n"
   ]
  },
  {
   "source": [
    "## Question 12\n",
    "Cut % Renewable into 5 bins. Group Top15 by the Continent, as well as these new % Renewable bins. How many countries are in each of these groups?\n",
    "\n",
    "This function should return a Series with a MultiIndex of Continent, then the bins for % Renewable. Do not include groups with no countries"
   ],
   "cell_type": "markdown",
   "metadata": {}
  },
  {
   "cell_type": "code",
   "execution_count": null,
   "metadata": {},
   "outputs": [],
   "source": [
    "def answer_twelve():\n",
    "    # YOUR CODE HERE\n",
    "    Top15 = answer_one()\n",
    "    # continent dict\n",
    "    ContinentDict = {'China':'Asia', \n",
    "                    'United States':'North America', \n",
    "                    'Japan':'Asia', \n",
    "                    'United Kingdom':'Europe', \n",
    "                    'Russian Federation':'Europe', \n",
    "                    'Canada':'North America', \n",
    "                    'Germany':'Europe', \n",
    "                    'India':'Asia',\n",
    "                    'France':'Europe', \n",
    "                    'South Korea':'Asia', \n",
    "                    'Italy':'Europe', \n",
    "                    'Spain':'Europe', \n",
    "                    'Iran':'Asia',\n",
    "                    'Australia':'Australia', \n",
    "                    'Brazil':'South America'}\n",
    "    # convert dict to dataframe\n",
    "    #Continent = pd.DataFrame.from_dict(ContinentDict, orient='index', columns=['Continent'])\n",
    "    Top15['Continent'] = Top15.index.map(lambda x: ContinentDict[x])\n",
    "\n",
    "    Top15['% Renewable'] = pd.cut(Top15['% Renewable'],bins=5)\n",
    "    return Top15.groupby(by=['Continent','% Renewable']).size()\n",
    "    \n",
    "    #raise NotImplementedError()"
   ]
  },
  {
   "cell_type": "code",
   "execution_count": null,
   "metadata": {},
   "outputs": [],
   "source": [
    "assert type(answer_twelve()) == pd.Series, \"Q12: You should return a Series!\"\n",
    "\n",
    "assert len(answer_twelve()) == 9, \"Q12: Wrong result numbers!\"\n"
   ]
  },
  {
   "source": [
    "## Question 13\n",
    "Convert the Population Estimate series to a string with thousands separator (using commas). Use all significant digits (do not round the results).\n",
    "\n",
    "e.g. 12345678.90 -> 12,345,678.90\n",
    "\n",
    "This function should return a series PopEst whose index is the country name and whose values are the population estimate string"
   ],
   "cell_type": "markdown",
   "metadata": {}
  },
  {
   "cell_type": "code",
   "execution_count": null,
   "metadata": {},
   "outputs": [],
   "source": [
    "def answer_thirteen():\n",
    "    Top15 = answer_one()\n",
    "    Top15['PopEst'] = Top15['Energy Supply'] / Top15['Energy Supply per Capita']\n",
    "    \n",
    "    # https://stackoverflow.com/questions/22617/format-numbers-to-strings-in-python\n",
    "    return Top15['PopEst'].apply(lambda str: '{0:,}'.format(str))\n",
    "    #raise NotImplementedError()"
   ]
  },
  {
   "cell_type": "code",
   "execution_count": null,
   "metadata": {},
   "outputs": [],
   "source": [
    "assert type(answer_thirteen()) == pd.Series, \"Q13: You should return a Series!\"\n",
    "\n",
    "assert len(answer_thirteen()) == 15, \"Q13: Wrong result numbers!\""
   ]
  },
  {
   "source": [
    "## Optional\n",
    "Use the built in function plot_optional() to see an example visualization."
   ],
   "cell_type": "markdown",
   "metadata": {}
  },
  {
   "cell_type": "code",
   "execution_count": null,
   "metadata": {},
   "outputs": [],
   "source": [
    "def plot_optional():\n",
    "    import matplotlib as plt\n",
    "    %matplotlib inline\n",
    "    Top15 = answer_one()\n",
    "    ax = Top15.plot(x='Rank', y='% Renewable', kind='scatter', \n",
    "                    c=['#e41a1c','#377eb8','#e41a1c','#4daf4a','#4daf4a','#377eb8','#4daf4a','#e41a1c',\n",
    "                       '#4daf4a','#e41a1c','#4daf4a','#4daf4a','#e41a1c','#dede00','#ff7f00'], \n",
    "                    xticks=range(1,16), s=6*Top15['2014']/10**10, alpha=.75, figsize=[16,6]);\n",
    "\n",
    "    for i, txt in enumerate(Top15.index):\n",
    "        ax.annotate(txt, [Top15['Rank'][i], Top15['% Renewable'][i]], ha='center')\n",
    "\n",
    "    print(\"This is an example of a visualization that can be created to help understand the data. \\\n",
    "This is a bubble chart showing % Renewable vs. Rank. The size of the bubble corresponds to the countries' \\\n",
    "2014 GDP, and the color corresponds to the continent.\")"
   ]
  }
 ]
}