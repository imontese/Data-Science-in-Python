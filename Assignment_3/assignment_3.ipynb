{
 "metadata": {
  "language_info": {
   "codemirror_mode": {
    "name": "ipython",
    "version": 3
   },
   "file_extension": ".py",
   "mimetype": "text/x-python",
   "name": "python",
   "nbconvert_exporter": "python",
   "pygments_lexer": "ipython3",
   "version": "3.7.5"
  },
  "orig_nbformat": 4,
  "kernelspec": {
   "name": "python3",
   "display_name": "Python 3.7.5 64-bit"
  },
  "interpreter": {
   "hash": "2e2df4439ad808530c47ce630b023a5e094d8a4d9df0f717b811262304fb64b1"
  }
 },
 "nbformat": 4,
 "nbformat_minor": 2,
 "cells": [
  {
   "source": [
    "# Assignment 3\n",
    "All questions are weighted the same in this assignment. This assignment requires more individual learning then the last one did - you are encouraged to check out the [pandas documentation](http://pandas.pydata.org/pandas-docs/stable/) to find functions or methods you might not have used yet, or ask questions on [Stack Overflow](http://stackoverflow.com/) and tag them as pandas and python related. All questions are worth the same number of points except question 1 which is worth 17% of the assignment grade.\n",
    "\n",
    "**Note**: Questions 3-13 rely on your question 1 answer."
   ],
   "cell_type": "markdown",
   "metadata": {}
  },
  {
   "cell_type": "code",
   "execution_count": 46,
   "metadata": {},
   "outputs": [],
   "source": [
    "import pandas as pd\n",
    "import numpy as np\n",
    "\n",
    "# Filter all warnings. If you would like to see the warnings, please comment the two lines below.\n",
    "import warnings\n",
    "warnings.filterwarnings('ignore')"
   ]
  },
  {
   "source": [
    "## Question 1\n",
    "Load the energy data from the file assets/Energy Indicators.xls, which is a list of indicators of energy supply and renewable electricity production from the United Nations for the year 2013, and should be put into a DataFrame with the variable name of Energy.\n",
    "\n",
    "Keep in mind that this is an Excel file, and not a comma separated values file. Also, make sure to exclude the footer and header information from the datafile. The first two columns are unneccessary, so you should get rid of them, and you should change the column labels so that the columns are:\n",
    "\n",
    "['Country', 'Energy Supply', 'Energy Supply per Capita', '% Renewable]\n",
    "\n",
    "Convert Energy Supply to gigajoules (Note: there are 1,000,000 gigajoules in a petajoule). For all countries which have missing data (e.g. data with \"...\") make sure this is reflected as np.NaN values.\n",
    "\n",
    "Rename the following list of countries (for use in later questions):\n",
    "\n",
    "\"Republic of Korea\": \"South Korea\",\n",
    "\"United States of America\": \"United States\",\n",
    "\"United Kingdom of Great Britain and Northern Ireland\": \"United Kingdom\",\n",
    "\"China, Hong Kong Special Administrative Region\": \"Hong Kong\"\n",
    "\n",
    "There are also several countries with numbers and/or parenthesis in their name. Be sure to remove these, e.g. 'Bolivia (Plurinational State of)' should be 'Bolivia'. 'Switzerland17' should be 'Switzerland'.\n",
    "\n",
    "Next, load the GDP data from the file assets/world_bank.csv, which is a csv containing countries' GDP from 1960 to 2015 from World Bank. Call this DataFrame GDP.\n",
    "\n",
    "Make sure to skip the header, and rename the following list of countries:\n",
    "\n",
    "\"Korea, Rep.\": \"South Korea\", \n",
    "\"Iran, Islamic Rep.\": \"Iran\",\n",
    "\"Hong Kong SAR, China\": \"Hong Kong\"\n",
    "\n",
    "Finally, load the Sciamgo Journal and Country Rank data for Energy Engineering and Power Technology from the file assets/scimagojr-3.xlsx, which ranks countries based on their journal contributions in the aforementioned area. Call this DataFrame ScimEn.\n",
    "\n",
    "Join the three datasets: GDP, Energy, and ScimEn into a new dataset (using the intersection of country names). Use only the last 10 years (2006-2015) of GDP data and only the top 15 countries by Scimagojr 'Rank' (Rank 1 through 15).\n",
    "\n",
    "The index of this DataFrame should be the name of the country, and the columns should be ['Rank', 'Documents', 'Citable documents', 'Citations', 'Self-citations', 'Citations per document', 'H index', 'Energy Supply', 'Energy Supply per Capita', '% Renewable', '2006', '2007', '2008', '2009', '2010', '2011', '2012', '2013', '2014', '2015'].\n",
    "\n",
    "This function should return a DataFrame with 20 columns and 15 entries, and the rows of the DataFrame should be sorted by \"Rank\"."
   ],
   "cell_type": "markdown",
   "metadata": {}
  },
  {
   "cell_type": "code",
   "execution_count": 47,
   "metadata": {},
   "outputs": [],
   "source": [
    "def answer_one():\n",
    "    # YOUR CODE HERE\n",
    "    \n",
    "    # load Energy file\n",
    "    xls = pd.ExcelFile('assets/Energy Indicators.xls')\n",
    "    Energy = xls.parse('Energy', skiprows=17)\n",
    "    Energy = Energy.drop(Energy.columns[[0,1]], axis=1)\n",
    "    Energy.columns = ['Country', 'Energy Supply', 'Energy Supply per Capita', '% Renewable']\n",
    "    \n",
    "    # replacing '...' with 'NaN'\n",
    "    Energy[['Energy Supply', 'Energy Supply per Capita']] = Energy[['Energy Supply', 'Energy Supply per Capita']].replace('...', np.NaN, regex=True)\n",
    "\n",
    "    # convert 'Energy Supply' to gigajoules\n",
    "    Energy['Energy Supply'] = Energy['Energy Supply'].apply(lambda x: x * 1000000)\n",
    "\n",
    "    # removing numbers from Country names column\n",
    "    Energy['Country'] = Energy['Country'].str.replace('\\d+', '')\n",
    "\n",
    "    #removing extra infomrtaion from 'Country' column\n",
    "    Energy['Country'] = Energy['Country'].str.replace(' \\(.*\\)', '')\n",
    "    \n",
    "    # rename list of the countries\n",
    "    Energy['Country'] = Energy['Country'].replace(\"Republic of Korea\", \"South Korea\").replace(\"United States of America\", \"United States\").replace(\"United Kingdom of Great Britain and Northern Ireland\", \"United Kingdom\").replace(\"China, Hong Kong Special Administrative Region\", \"Hong Kong\")\n",
    "\n",
    "    # load GDP file\n",
    "    GDP = pd.read_csv('assets/world_bank.csv', skiprows=4)\n",
    "\n",
    "    # replace in columns label ' ' with '_'\n",
    "    GDP.columns = GDP.columns.str.replace(' ', '_')\n",
    "\n",
    "    # rename the countries \n",
    "    GDP = GDP.replace(\"Korea, Rep.\", \"South Korea\").replace( \n",
    "                      \"Iran, Islamic Rep.\", \"Iran\").replace(\n",
    "                      \"Hong Kong SAR, China\", \"Hong Kong\") \n",
    "\n",
    "    # select colun to display\n",
    "    GDP = GDP.rename(columns={'Country_Name': 'Country'})\n",
    "    GDP = GDP.loc[:,['Country', '2006', '2007', '2008', '2009', '2010', '2011', '2012', '2013', '2014', '2015']]\n",
    "    \n",
    "    # load scimagojr-3 file\n",
    "    xlsx = pd.ExcelFile('assets/scimagojr-3.xlsx')\n",
    "    ScimEn = xlsx.parse('Sheet1')\n",
    "\n",
    "    ScimEn = ScimEn.loc[0:14,:]\n",
    "    \n",
    "    # set index 'Country'\n",
    "    ScimEn = ScimEn.set_index('Country')\n",
    "    GDP = GDP.set_index('Country')\n",
    "    Energy = Energy.set_index('Country')\n",
    "    \n",
    "    # merge 'ScimEn' 'Energy' 'GDP'\n",
    "    df = pd.merge(pd.merge(ScimEn, Energy, how='inner', left_index=True, right_index=True), GDP, how='inner', left_index=True,    \n",
    "         right_index=True)\n",
    "\n",
    "    df = df.sort_values(by=['Rank'])\n",
    "    \n",
    "    return df\n",
    "    \n",
    "    #raise NotImplementedError()"
   ]
  },
  {
   "cell_type": "code",
   "execution_count": 48,
   "metadata": {},
   "outputs": [],
   "source": [
    "assert type(answer_one()) == pd.DataFrame, \"Q1: You should return a DataFrame!\"\n",
    "\n",
    "assert answer_one().shape == (15,20), \"Q1: Your DataFrame should have 20 columns and 15 entries!\""
   ]
  },
  {
   "cell_type": "code",
   "execution_count": null,
   "metadata": {},
   "outputs": [],
   "source": [
    "# Cell for autograder."
   ]
  },
  {
   "cell_type": "code",
   "execution_count": 4,
   "metadata": {},
   "outputs": [],
   "source": [
    "#Energy.loc[Energy.Country == 'United States of America', :]"
   ]
  },
  {
   "source": [
    "## Question 2\n",
    "The previous question joined three datasets then reduced this to just the top 15 entries. When you joined the datasets, but before you reduced this to the top 15 items, how many entries did you lose?\n",
    "\n",
    "This function should return a single number."
   ],
   "cell_type": "markdown",
   "metadata": {}
  },
  {
   "cell_type": "code",
   "execution_count": 10,
   "metadata": {},
   "outputs": [
    {
     "output_type": "display_data",
     "data": {
      "text/plain": "<IPython.core.display.HTML object>",
      "text/html": "<svg width=\"800\" height=\"300\">\n  <circle cx=\"150\" cy=\"180\" r=\"80\" fill-opacity=\"0.2\" stroke=\"black\" stroke-width=\"2\" fill=\"blue\" />\n  <circle cx=\"200\" cy=\"100\" r=\"80\" fill-opacity=\"0.2\" stroke=\"black\" stroke-width=\"2\" fill=\"red\" />\n  <circle cx=\"100\" cy=\"100\" r=\"80\" fill-opacity=\"0.2\" stroke=\"black\" stroke-width=\"2\" fill=\"green\" />\n  <line x1=\"150\" y1=\"125\" x2=\"300\" y2=\"150\" stroke=\"black\" stroke-width=\"2\" fill=\"black\" stroke-dasharray=\"5,3\"/>\n  <text x=\"300\" y=\"165\" font-family=\"Verdana\" font-size=\"35\">Everything but this!</text>\n</svg>\n"
     },
     "metadata": {}
    }
   ],
   "source": [
    "%%HTML\n",
    "<svg width=\"800\" height=\"300\">\n",
    "  <circle cx=\"150\" cy=\"180\" r=\"80\" fill-opacity=\"0.2\" stroke=\"black\" stroke-width=\"2\" fill=\"blue\" />\n",
    "  <circle cx=\"200\" cy=\"100\" r=\"80\" fill-opacity=\"0.2\" stroke=\"black\" stroke-width=\"2\" fill=\"red\" />\n",
    "  <circle cx=\"100\" cy=\"100\" r=\"80\" fill-opacity=\"0.2\" stroke=\"black\" stroke-width=\"2\" fill=\"green\" />\n",
    "  <line x1=\"150\" y1=\"125\" x2=\"300\" y2=\"150\" stroke=\"black\" stroke-width=\"2\" fill=\"black\" stroke-dasharray=\"5,3\"/>\n",
    "  <text x=\"300\" y=\"165\" font-family=\"Verdana\" font-size=\"35\">Everything but this!</text>\n",
    "</svg>"
   ]
  },
  {
   "cell_type": "code",
   "execution_count": 11,
   "metadata": {},
   "outputs": [],
   "source": [
    "def answer_two():\n",
    "    # YOUR CODE HERE\n",
    "    # load scimagojr-3 file\n",
    "    xlsx = pd.ExcelFile('assets/scimagojr-3.xlsx')\n",
    "    ScimEn = xlsx.parse('Sheet1')\n",
    "\n",
    "    diff = ScimEn.shape[0] - answer_one().shape[0]\n",
    "    \n",
    "    return diff\n",
    "    #raise NotImplementedError()"
   ]
  },
  {
   "cell_type": "code",
   "execution_count": null,
   "metadata": {},
   "outputs": [],
   "source": [
    "assert type(answer_two()) == int, \"Q2: You should return an int number!\""
   ]
  },
  {
   "source": [
    "## Question 3\n",
    "What are the top 15 countries for average GDP over the last 10 years?\n",
    "\n",
    "This function should return a Series named avgGDP with 15 countries and their average GDP sorted in descending order."
   ],
   "cell_type": "markdown",
   "metadata": {}
  },
  {
   "cell_type": "code",
   "execution_count": 61,
   "metadata": {},
   "outputs": [],
   "source": [
    "def answer_three():\n",
    "    # YOUR CODE HERE\n",
    "    GDP_mean = answer_one().loc[:,'2006':'2015'].mean(axis=1).sort_values(ascending=False)\n",
    "    return GDP_mean\n",
    "   # raise NotImplementedError()"
   ]
  },
  {
   "cell_type": "code",
   "execution_count": 62,
   "metadata": {},
   "outputs": [],
   "source": [
    "assert type(answer_three()) == pd.Series, \"Q3: You should return a Series!\""
   ]
  },
  {
   "source": [
    "## Question 4\n",
    "By how much had the GDP changed over the 10 year span for the country with the 6th largest average GDP?\n",
    "\n",
    "This function should return a single number."
   ],
   "cell_type": "markdown",
   "metadata": {}
  },
  {
   "cell_type": "code",
   "execution_count": 124,
   "metadata": {},
   "outputs": [],
   "source": [
    "def answer_four():\n",
    "    # YOUR CODE HERE\n",
    "    GDP_mean = answer_one()\n",
    "    GDP_mean['mean'] = GDP_mean.loc[:,'2006':'2015'].mean(axis=1)\n",
    "    GDP_mean = GDP_mean.iloc[:,10:].sort_values(by=['mean'],ascending=False)\n",
    "\n",
    "    GDP_dif = GDP_mean.iloc[5,9] - GDP_mean.iloc[5,0]\n",
    "\n",
    "    return GDP_dif\n",
    "    #raise NotImplementedError()\n",
    "\n"
   ]
  },
  {
   "source": [
    "# Cell for autograder."
   ],
   "cell_type": "markdown",
   "metadata": {}
  },
  {
   "source": [
    "## Question 5\n",
    "What is the mean energy supply per capita?\n",
    "\n",
    "This function should return a single number."
   ],
   "cell_type": "markdown",
   "metadata": {}
  },
  {
   "cell_type": "code",
   "execution_count": 133,
   "metadata": {},
   "outputs": [],
   "source": [
    "def answer_five():\n",
    "    # YOUR CODE HERE\n",
    "    supply_per_capital_mean = answer_one()['Energy Supply per Capita'].mean()\n",
    "    return supply_per_capital_mean\n",
    "    #raise NotImplementedError()"
   ]
  },
  {
   "cell_type": "code",
   "execution_count": null,
   "metadata": {},
   "outputs": [],
   "source": [
    "# Cell for autograder."
   ]
  },
  {
   "source": [
    "## Question 6\n",
    "What country has the maximum % Renewable and what is the percentage?\n",
    "\n",
    "This function should return a tuple with the name of the country and the percentage."
   ],
   "cell_type": "markdown",
   "metadata": {}
  },
  {
   "cell_type": "code",
   "execution_count": 140,
   "metadata": {},
   "outputs": [],
   "source": [
    "def answer_six():\n",
    "    id = answer_one()['% Renewable'].idxmax()\n",
    "    max = answer_one()['% Renewable'].max()\n",
    "    return id, max\n",
    "    #raise NotImplementedError()"
   ]
  },
  {
   "cell_type": "code",
   "execution_count": null,
   "metadata": {},
   "outputs": [],
   "source": [
    "assert type(answer_six()) == tuple, \"Q6: You should return a tuple!\"\n",
    "\n",
    "assert type(answer_six()[0]) == str, \"Q6: The first element in your result should be the name of the country!\"\n"
   ]
  },
  {
   "source": [
    "## Question 7\n",
    "Create a new column that is the ratio of Self-Citations to Total Citations. What is the maximum value for this new column, and what country has the highest ratio?\n",
    "\n",
    "This function should return a tuple with the name of the country and the ratio."
   ],
   "cell_type": "markdown",
   "metadata": {}
  },
  {
   "cell_type": "code",
   "execution_count": 152,
   "metadata": {},
   "outputs": [],
   "source": [
    "def answer_seven():\n",
    "    # YOUR CODE HERE\n",
    "    gdp_citations = answer_one()\n",
    "    gdp_citations['Citations Ratio'] = gdp_citations['Self-citations']/gdp_citations['Citations']\n",
    "    max = gdp_citations['Citations Ratio'].max()\n",
    "    id = gdp_citations['Citations Ratio'].idxmax()\n",
    "    return id, max\n",
    "    #raise NotImplementedError()"
   ]
  },
  {
   "cell_type": "code",
   "execution_count": null,
   "metadata": {},
   "outputs": [],
   "source": [
    "assert type(answer_seven()) == tuple, \"Q7: You should return a tuple!\"\n",
    "\n",
    "assert type(answer_seven()[0]) == str, \"Q7: The first element in your result should be the name of the country!\"\n"
   ]
  },
  {
   "source": [
    "## Question 8\n",
    "Create a column that estimates the population using Energy Supply and Energy Supply per capita. What is the third most populous country according to this estimate?\n",
    "\n",
    "This function should return the name of the country"
   ],
   "cell_type": "markdown",
   "metadata": {}
  },
  {
   "cell_type": "code",
   "execution_count": 162,
   "metadata": {},
   "outputs": [],
   "source": [
    "def answer_eight():\n",
    "    # YOUR CODE HERE\n",
    "    energy = answer_one()\n",
    "    energy['Energy Estimation'] = energy['Energy Supply']/energy['Energy Supply per Capita']\n",
    "    id = energy['Energy Estimation'].idxmax()\n",
    "    return id\n",
    "    #raise NotImplementedError()\n"
   ]
  },
  {
   "cell_type": "code",
   "execution_count": 163,
   "metadata": {},
   "outputs": [],
   "source": [
    "assert type(answer_eight()) == str, \"Q8: You should return the name of the country!\""
   ]
  },
  {
   "source": [
    "## Question 9\n",
    "Create a column that estimates the number of citable documents per person. What is the correlation between the number of citable documents per capita and the energy supply per capita? Use the .corr() method, (Pearson's correlation).\n",
    "\n",
    "This function should return a single number.\n",
    "\n",
    "(Optional: Use the built-in function plot9() to visualize the relationship between Energy Supply per Capita vs. Citable docs per Capita)"
   ],
   "cell_type": "markdown",
   "metadata": {}
  },
  {
   "cell_type": "code",
   "execution_count": 171,
   "metadata": {},
   "outputs": [],
   "source": [
    "def answer_nine():\n",
    "    Top15 = answer_one()\n",
    "    Top15 = Top15.assign(PopEst = Top15['Energy Supply']/Top15['Energy Supply per Capita'])\n",
    "    Top15 = Top15.assign(Citable_docs_per_Capita = Top15['Citable documents'] / Top15['PopEst'])\n",
    "    correlation = Top15['Citable_docs_per_Capita'].corr(Top15['Energy Supply per Capita'])\n",
    "    return correlation\n",
    "    #raise NotImplementedError()"
   ]
  },
  {
   "cell_type": "code",
   "execution_count": 172,
   "metadata": {},
   "outputs": [],
   "source": [
    "def plot9():\n",
    "    import matplotlib as plt\n",
    "    %matplotlib inline\n",
    "    \n",
    "    Top15 = answer_one()\n",
    "    Top15['PopEst'] = Top15['Energy Supply'] / Top15['Energy Supply per Capita']\n",
    "    Top15['Citable docs per Capita'] = Top15['Citable documents'] / Top15['PopEst']\n",
    "    Top15.plot(x='Citable docs per Capita', y='Energy Supply per Capita', kind='scatter', xlim=[0, 0.0006])"
   ]
  },
  {
   "cell_type": "code",
   "execution_count": 173,
   "metadata": {},
   "outputs": [],
   "source": [
    "assert answer_nine() >= -1. and answer_nine() <= 1., \"Q9: A valid correlation should between -1 to 1!\""
   ]
  },
  {
   "cell_type": "code",
   "execution_count": 177,
   "metadata": {},
   "outputs": [
    {
     "output_type": "stream",
     "name": "stderr",
     "text": [
      "Matplotlib is building the font cache; this may take a moment.\n"
     ]
    },
    {
     "output_type": "display_data",
     "data": {
      "text/plain": "<Figure size 432x288 with 1 Axes>",
      "image/svg+xml": "<?xml version=\"1.0\" encoding=\"utf-8\" standalone=\"no\"?>\r\n<!DOCTYPE svg PUBLIC \"-//W3C//DTD SVG 1.1//EN\"\r\n  \"http://www.w3.org/Graphics/SVG/1.1/DTD/svg11.dtd\">\r\n<!-- Created with matplotlib (https://matplotlib.org/) -->\r\n<svg height=\"262.19625pt\" version=\"1.1\" viewBox=\"0 0 406.460938 262.19625\" width=\"406.460938pt\" xmlns=\"http://www.w3.org/2000/svg\" xmlns:xlink=\"http://www.w3.org/1999/xlink\">\r\n <metadata>\r\n  <rdf:RDF xmlns:cc=\"http://creativecommons.org/ns#\" xmlns:dc=\"http://purl.org/dc/elements/1.1/\" xmlns:rdf=\"http://www.w3.org/1999/02/22-rdf-syntax-ns#\">\r\n   <cc:Work>\r\n    <dc:type rdf:resource=\"http://purl.org/dc/dcmitype/StillImage\"/>\r\n    <dc:date>2021-07-01T16:36:14.757280</dc:date>\r\n    <dc:format>image/svg+xml</dc:format>\r\n    <dc:creator>\r\n     <cc:Agent>\r\n      <dc:title>Matplotlib v3.3.4, https://matplotlib.org/</dc:title>\r\n     </cc:Agent>\r\n    </dc:creator>\r\n   </cc:Work>\r\n  </rdf:RDF>\r\n </metadata>\r\n <defs>\r\n  <style type=\"text/css\">*{stroke-linecap:butt;stroke-linejoin:round;}</style>\r\n </defs>\r\n <g id=\"figure_1\">\r\n  <g id=\"patch_1\">\r\n   <path d=\"M 0 262.19625 \r\nL 406.460938 262.19625 \r\nL 406.460938 0 \r\nL 0 0 \r\nz\r\n\" style=\"fill:none;\"/>\r\n  </g>\r\n  <g id=\"axes_1\">\r\n   <g id=\"patch_2\">\r\n    <path d=\"M 46.965625 224.64 \r\nL 381.765625 224.64 \r\nL 381.765625 7.2 \r\nL 46.965625 7.2 \r\nz\r\n\" style=\"fill:#ffffff;\"/>\r\n   </g>\r\n   <g id=\"PathCollection_1\">\r\n    <defs>\r\n     <path d=\"M 0 2.236068 \r\nC 0.593012 2.236068 1.161816 2.000462 1.581139 1.581139 \r\nC 2.000462 1.161816 2.236068 0.593012 2.236068 0 \r\nC 2.236068 -0.593012 2.000462 -1.161816 1.581139 -1.581139 \r\nC 1.161816 -2.000462 0.593012 -2.236068 0 -2.236068 \r\nC -0.593012 -2.236068 -1.161816 -2.000462 -1.581139 -1.581139 \r\nC -2.000462 -1.161816 -2.236068 -0.593012 -2.236068 0 \r\nC -2.236068 0.593012 -2.000462 1.161816 -1.581139 1.581139 \r\nC -1.161816 2.000462 -0.593012 2.236068 0 2.236068 \r\nz\r\n\" id=\"m72a6999576\" style=\"stroke:#1f77b4;\"/>\r\n    </defs>\r\n    <g clip-path=\"url(#p37b2eed872)\">\r\n     <use style=\"fill:#1f77b4;stroke:#1f77b4;\" x=\"98.686633\" xlink:href=\"#m72a6999576\" y=\"165.704242\"/>\r\n     <use style=\"fill:#1f77b4;stroke:#1f77b4;\" x=\"213.42112\" xlink:href=\"#m72a6999576\" y=\"24.404848\"/>\r\n     <use style=\"fill:#1f77b4;stroke:#1f77b4;\" x=\"179.610049\" xlink:href=\"#m72a6999576\" y=\"124.705455\"/>\r\n     <use style=\"fill:#1f77b4;stroke:#1f77b4;\" x=\"224.81178\" xlink:href=\"#m72a6999576\" y=\"143.008485\"/>\r\n     <use style=\"fill:#1f77b4;stroke:#1f77b4;\" x=\"118.129095\" xlink:href=\"#m72a6999576\" y=\"77.117576\"/>\r\n     <use style=\"fill:#1f77b4;stroke:#1f77b4;\" x=\"325.966695\" xlink:href=\"#m72a6999576\" y=\"17.083636\"/>\r\n     <use style=\"fill:#1f77b4;stroke:#1f77b4;\" x=\"163.821833\" xlink:href=\"#m72a6999576\" y=\"112.991515\"/>\r\n     <use style=\"fill:#1f77b4;stroke:#1f77b4;\" x=\"53.45194\" xlink:href=\"#m72a6999576\" y=\"214.756364\"/>\r\n     <use style=\"fill:#1f77b4;stroke:#1f77b4;\" x=\"160.362156\" xlink:href=\"#m72a6999576\" y=\"112.259394\"/>\r\n     <use style=\"fill:#1f77b4;stroke:#1f77b4;\" x=\"180.546121\" xlink:href=\"#m72a6999576\" y=\"71.992727\"/>\r\n     <use style=\"fill:#1f77b4;stroke:#1f77b4;\" x=\"147.503553\" xlink:href=\"#m72a6999576\" y=\"153.990303\"/>\r\n     <use style=\"fill:#1f77b4;stroke:#1f77b4;\" x=\"159.062078\" xlink:href=\"#m72a6999576\" y=\"156.186667\"/>\r\n     <use style=\"fill:#1f77b4;stroke:#1f77b4;\" x=\"110.812031\" xlink:href=\"#m72a6999576\" y=\"146.669091\"/>\r\n     <use style=\"fill:#1f77b4;stroke:#1f77b4;\" x=\"255.772727\" xlink:href=\"#m72a6999576\" y=\"64.671515\"/>\r\n     <use style=\"fill:#1f77b4;stroke:#1f77b4;\" x=\"70.259518\" xlink:href=\"#m72a6999576\" y=\"190.596364\"/>\r\n    </g>\r\n   </g>\r\n   <g id=\"matplotlib.axis_1\">\r\n    <g id=\"xtick_1\">\r\n     <g id=\"line2d_1\">\r\n      <defs>\r\n       <path d=\"M 0 0 \r\nL 0 3.5 \r\n\" id=\"mf89a789a3f\" style=\"stroke:#000000;stroke-width:0.8;\"/>\r\n      </defs>\r\n      <g>\r\n       <use style=\"stroke:#000000;stroke-width:0.8;\" x=\"46.965625\" xlink:href=\"#mf89a789a3f\" y=\"224.64\"/>\r\n      </g>\r\n     </g>\r\n     <g id=\"text_1\">\r\n      <!-- 0.0000 -->\r\n      <g transform=\"translate(29.470313 239.238437)scale(0.1 -0.1)\">\r\n       <defs>\r\n        <path d=\"M 31.78125 66.40625 \r\nQ 24.171875 66.40625 20.328125 58.90625 \r\nQ 16.5 51.421875 16.5 36.375 \r\nQ 16.5 21.390625 20.328125 13.890625 \r\nQ 24.171875 6.390625 31.78125 6.390625 \r\nQ 39.453125 6.390625 43.28125 13.890625 \r\nQ 47.125 21.390625 47.125 36.375 \r\nQ 47.125 51.421875 43.28125 58.90625 \r\nQ 39.453125 66.40625 31.78125 66.40625 \r\nz\r\nM 31.78125 74.21875 \r\nQ 44.046875 74.21875 50.515625 64.515625 \r\nQ 56.984375 54.828125 56.984375 36.375 \r\nQ 56.984375 17.96875 50.515625 8.265625 \r\nQ 44.046875 -1.421875 31.78125 -1.421875 \r\nQ 19.53125 -1.421875 13.0625 8.265625 \r\nQ 6.59375 17.96875 6.59375 36.375 \r\nQ 6.59375 54.828125 13.0625 64.515625 \r\nQ 19.53125 74.21875 31.78125 74.21875 \r\nz\r\n\" id=\"DejaVuSans-48\"/>\r\n        <path d=\"M 10.6875 12.40625 \r\nL 21 12.40625 \r\nL 21 0 \r\nL 10.6875 0 \r\nz\r\n\" id=\"DejaVuSans-46\"/>\r\n       </defs>\r\n       <use xlink:href=\"#DejaVuSans-48\"/>\r\n       <use x=\"63.623047\" xlink:href=\"#DejaVuSans-46\"/>\r\n       <use x=\"95.410156\" xlink:href=\"#DejaVuSans-48\"/>\r\n       <use x=\"159.033203\" xlink:href=\"#DejaVuSans-48\"/>\r\n       <use x=\"222.65625\" xlink:href=\"#DejaVuSans-48\"/>\r\n       <use x=\"286.279297\" xlink:href=\"#DejaVuSans-48\"/>\r\n      </g>\r\n     </g>\r\n    </g>\r\n    <g id=\"xtick_2\">\r\n     <g id=\"line2d_2\">\r\n      <g>\r\n       <use style=\"stroke:#000000;stroke-width:0.8;\" x=\"102.765625\" xlink:href=\"#mf89a789a3f\" y=\"224.64\"/>\r\n      </g>\r\n     </g>\r\n     <g id=\"text_2\">\r\n      <!-- 0.0001 -->\r\n      <g transform=\"translate(85.270313 239.238437)scale(0.1 -0.1)\">\r\n       <defs>\r\n        <path d=\"M 12.40625 8.296875 \r\nL 28.515625 8.296875 \r\nL 28.515625 63.921875 \r\nL 10.984375 60.40625 \r\nL 10.984375 69.390625 \r\nL 28.421875 72.90625 \r\nL 38.28125 72.90625 \r\nL 38.28125 8.296875 \r\nL 54.390625 8.296875 \r\nL 54.390625 0 \r\nL 12.40625 0 \r\nz\r\n\" id=\"DejaVuSans-49\"/>\r\n       </defs>\r\n       <use xlink:href=\"#DejaVuSans-48\"/>\r\n       <use x=\"63.623047\" xlink:href=\"#DejaVuSans-46\"/>\r\n       <use x=\"95.410156\" xlink:href=\"#DejaVuSans-48\"/>\r\n       <use x=\"159.033203\" xlink:href=\"#DejaVuSans-48\"/>\r\n       <use x=\"222.65625\" xlink:href=\"#DejaVuSans-48\"/>\r\n       <use x=\"286.279297\" xlink:href=\"#DejaVuSans-49\"/>\r\n      </g>\r\n     </g>\r\n    </g>\r\n    <g id=\"xtick_3\">\r\n     <g id=\"line2d_3\">\r\n      <g>\r\n       <use style=\"stroke:#000000;stroke-width:0.8;\" x=\"158.565625\" xlink:href=\"#mf89a789a3f\" y=\"224.64\"/>\r\n      </g>\r\n     </g>\r\n     <g id=\"text_3\">\r\n      <!-- 0.0002 -->\r\n      <g transform=\"translate(141.070312 239.238437)scale(0.1 -0.1)\">\r\n       <defs>\r\n        <path d=\"M 19.1875 8.296875 \r\nL 53.609375 8.296875 \r\nL 53.609375 0 \r\nL 7.328125 0 \r\nL 7.328125 8.296875 \r\nQ 12.9375 14.109375 22.625 23.890625 \r\nQ 32.328125 33.6875 34.8125 36.53125 \r\nQ 39.546875 41.84375 41.421875 45.53125 \r\nQ 43.3125 49.21875 43.3125 52.78125 \r\nQ 43.3125 58.59375 39.234375 62.25 \r\nQ 35.15625 65.921875 28.609375 65.921875 \r\nQ 23.96875 65.921875 18.8125 64.3125 \r\nQ 13.671875 62.703125 7.8125 59.421875 \r\nL 7.8125 69.390625 \r\nQ 13.765625 71.78125 18.9375 73 \r\nQ 24.125 74.21875 28.421875 74.21875 \r\nQ 39.75 74.21875 46.484375 68.546875 \r\nQ 53.21875 62.890625 53.21875 53.421875 \r\nQ 53.21875 48.921875 51.53125 44.890625 \r\nQ 49.859375 40.875 45.40625 35.40625 \r\nQ 44.1875 33.984375 37.640625 27.21875 \r\nQ 31.109375 20.453125 19.1875 8.296875 \r\nz\r\n\" id=\"DejaVuSans-50\"/>\r\n       </defs>\r\n       <use xlink:href=\"#DejaVuSans-48\"/>\r\n       <use x=\"63.623047\" xlink:href=\"#DejaVuSans-46\"/>\r\n       <use x=\"95.410156\" xlink:href=\"#DejaVuSans-48\"/>\r\n       <use x=\"159.033203\" xlink:href=\"#DejaVuSans-48\"/>\r\n       <use x=\"222.65625\" xlink:href=\"#DejaVuSans-48\"/>\r\n       <use x=\"286.279297\" xlink:href=\"#DejaVuSans-50\"/>\r\n      </g>\r\n     </g>\r\n    </g>\r\n    <g id=\"xtick_4\">\r\n     <g id=\"line2d_4\">\r\n      <g>\r\n       <use style=\"stroke:#000000;stroke-width:0.8;\" x=\"214.365625\" xlink:href=\"#mf89a789a3f\" y=\"224.64\"/>\r\n      </g>\r\n     </g>\r\n     <g id=\"text_4\">\r\n      <!-- 0.0003 -->\r\n      <g transform=\"translate(196.870313 239.238437)scale(0.1 -0.1)\">\r\n       <defs>\r\n        <path d=\"M 40.578125 39.3125 \r\nQ 47.65625 37.796875 51.625 33 \r\nQ 55.609375 28.21875 55.609375 21.1875 \r\nQ 55.609375 10.40625 48.1875 4.484375 \r\nQ 40.765625 -1.421875 27.09375 -1.421875 \r\nQ 22.515625 -1.421875 17.65625 -0.515625 \r\nQ 12.796875 0.390625 7.625 2.203125 \r\nL 7.625 11.71875 \r\nQ 11.71875 9.328125 16.59375 8.109375 \r\nQ 21.484375 6.890625 26.8125 6.890625 \r\nQ 36.078125 6.890625 40.9375 10.546875 \r\nQ 45.796875 14.203125 45.796875 21.1875 \r\nQ 45.796875 27.640625 41.28125 31.265625 \r\nQ 36.765625 34.90625 28.71875 34.90625 \r\nL 20.21875 34.90625 \r\nL 20.21875 43.015625 \r\nL 29.109375 43.015625 \r\nQ 36.375 43.015625 40.234375 45.921875 \r\nQ 44.09375 48.828125 44.09375 54.296875 \r\nQ 44.09375 59.90625 40.109375 62.90625 \r\nQ 36.140625 65.921875 28.71875 65.921875 \r\nQ 24.65625 65.921875 20.015625 65.03125 \r\nQ 15.375 64.15625 9.8125 62.3125 \r\nL 9.8125 71.09375 \r\nQ 15.4375 72.65625 20.34375 73.4375 \r\nQ 25.25 74.21875 29.59375 74.21875 \r\nQ 40.828125 74.21875 47.359375 69.109375 \r\nQ 53.90625 64.015625 53.90625 55.328125 \r\nQ 53.90625 49.265625 50.4375 45.09375 \r\nQ 46.96875 40.921875 40.578125 39.3125 \r\nz\r\n\" id=\"DejaVuSans-51\"/>\r\n       </defs>\r\n       <use xlink:href=\"#DejaVuSans-48\"/>\r\n       <use x=\"63.623047\" xlink:href=\"#DejaVuSans-46\"/>\r\n       <use x=\"95.410156\" xlink:href=\"#DejaVuSans-48\"/>\r\n       <use x=\"159.033203\" xlink:href=\"#DejaVuSans-48\"/>\r\n       <use x=\"222.65625\" xlink:href=\"#DejaVuSans-48\"/>\r\n       <use x=\"286.279297\" xlink:href=\"#DejaVuSans-51\"/>\r\n      </g>\r\n     </g>\r\n    </g>\r\n    <g id=\"xtick_5\">\r\n     <g id=\"line2d_5\">\r\n      <g>\r\n       <use style=\"stroke:#000000;stroke-width:0.8;\" x=\"270.165625\" xlink:href=\"#mf89a789a3f\" y=\"224.64\"/>\r\n      </g>\r\n     </g>\r\n     <g id=\"text_5\">\r\n      <!-- 0.0004 -->\r\n      <g transform=\"translate(252.670313 239.238437)scale(0.1 -0.1)\">\r\n       <defs>\r\n        <path d=\"M 37.796875 64.3125 \r\nL 12.890625 25.390625 \r\nL 37.796875 25.390625 \r\nz\r\nM 35.203125 72.90625 \r\nL 47.609375 72.90625 \r\nL 47.609375 25.390625 \r\nL 58.015625 25.390625 \r\nL 58.015625 17.1875 \r\nL 47.609375 17.1875 \r\nL 47.609375 0 \r\nL 37.796875 0 \r\nL 37.796875 17.1875 \r\nL 4.890625 17.1875 \r\nL 4.890625 26.703125 \r\nz\r\n\" id=\"DejaVuSans-52\"/>\r\n       </defs>\r\n       <use xlink:href=\"#DejaVuSans-48\"/>\r\n       <use x=\"63.623047\" xlink:href=\"#DejaVuSans-46\"/>\r\n       <use x=\"95.410156\" xlink:href=\"#DejaVuSans-48\"/>\r\n       <use x=\"159.033203\" xlink:href=\"#DejaVuSans-48\"/>\r\n       <use x=\"222.65625\" xlink:href=\"#DejaVuSans-48\"/>\r\n       <use x=\"286.279297\" xlink:href=\"#DejaVuSans-52\"/>\r\n      </g>\r\n     </g>\r\n    </g>\r\n    <g id=\"xtick_6\">\r\n     <g id=\"line2d_6\">\r\n      <g>\r\n       <use style=\"stroke:#000000;stroke-width:0.8;\" x=\"325.965625\" xlink:href=\"#mf89a789a3f\" y=\"224.64\"/>\r\n      </g>\r\n     </g>\r\n     <g id=\"text_6\">\r\n      <!-- 0.0005 -->\r\n      <g transform=\"translate(308.470312 239.238437)scale(0.1 -0.1)\">\r\n       <defs>\r\n        <path d=\"M 10.796875 72.90625 \r\nL 49.515625 72.90625 \r\nL 49.515625 64.59375 \r\nL 19.828125 64.59375 \r\nL 19.828125 46.734375 \r\nQ 21.96875 47.46875 24.109375 47.828125 \r\nQ 26.265625 48.1875 28.421875 48.1875 \r\nQ 40.625 48.1875 47.75 41.5 \r\nQ 54.890625 34.8125 54.890625 23.390625 \r\nQ 54.890625 11.625 47.5625 5.09375 \r\nQ 40.234375 -1.421875 26.90625 -1.421875 \r\nQ 22.3125 -1.421875 17.546875 -0.640625 \r\nQ 12.796875 0.140625 7.71875 1.703125 \r\nL 7.71875 11.625 \r\nQ 12.109375 9.234375 16.796875 8.0625 \r\nQ 21.484375 6.890625 26.703125 6.890625 \r\nQ 35.15625 6.890625 40.078125 11.328125 \r\nQ 45.015625 15.765625 45.015625 23.390625 \r\nQ 45.015625 31 40.078125 35.4375 \r\nQ 35.15625 39.890625 26.703125 39.890625 \r\nQ 22.75 39.890625 18.8125 39.015625 \r\nQ 14.890625 38.140625 10.796875 36.28125 \r\nz\r\n\" id=\"DejaVuSans-53\"/>\r\n       </defs>\r\n       <use xlink:href=\"#DejaVuSans-48\"/>\r\n       <use x=\"63.623047\" xlink:href=\"#DejaVuSans-46\"/>\r\n       <use x=\"95.410156\" xlink:href=\"#DejaVuSans-48\"/>\r\n       <use x=\"159.033203\" xlink:href=\"#DejaVuSans-48\"/>\r\n       <use x=\"222.65625\" xlink:href=\"#DejaVuSans-48\"/>\r\n       <use x=\"286.279297\" xlink:href=\"#DejaVuSans-53\"/>\r\n      </g>\r\n     </g>\r\n    </g>\r\n    <g id=\"xtick_7\">\r\n     <g id=\"line2d_7\">\r\n      <g>\r\n       <use style=\"stroke:#000000;stroke-width:0.8;\" x=\"381.765625\" xlink:href=\"#mf89a789a3f\" y=\"224.64\"/>\r\n      </g>\r\n     </g>\r\n     <g id=\"text_7\">\r\n      <!-- 0.0006 -->\r\n      <g transform=\"translate(364.270312 239.238437)scale(0.1 -0.1)\">\r\n       <defs>\r\n        <path d=\"M 33.015625 40.375 \r\nQ 26.375 40.375 22.484375 35.828125 \r\nQ 18.609375 31.296875 18.609375 23.390625 \r\nQ 18.609375 15.53125 22.484375 10.953125 \r\nQ 26.375 6.390625 33.015625 6.390625 \r\nQ 39.65625 6.390625 43.53125 10.953125 \r\nQ 47.40625 15.53125 47.40625 23.390625 \r\nQ 47.40625 31.296875 43.53125 35.828125 \r\nQ 39.65625 40.375 33.015625 40.375 \r\nz\r\nM 52.59375 71.296875 \r\nL 52.59375 62.3125 \r\nQ 48.875 64.0625 45.09375 64.984375 \r\nQ 41.3125 65.921875 37.59375 65.921875 \r\nQ 27.828125 65.921875 22.671875 59.328125 \r\nQ 17.53125 52.734375 16.796875 39.40625 \r\nQ 19.671875 43.65625 24.015625 45.921875 \r\nQ 28.375 48.1875 33.59375 48.1875 \r\nQ 44.578125 48.1875 50.953125 41.515625 \r\nQ 57.328125 34.859375 57.328125 23.390625 \r\nQ 57.328125 12.15625 50.6875 5.359375 \r\nQ 44.046875 -1.421875 33.015625 -1.421875 \r\nQ 20.359375 -1.421875 13.671875 8.265625 \r\nQ 6.984375 17.96875 6.984375 36.375 \r\nQ 6.984375 53.65625 15.1875 63.9375 \r\nQ 23.390625 74.21875 37.203125 74.21875 \r\nQ 40.921875 74.21875 44.703125 73.484375 \r\nQ 48.484375 72.75 52.59375 71.296875 \r\nz\r\n\" id=\"DejaVuSans-54\"/>\r\n       </defs>\r\n       <use xlink:href=\"#DejaVuSans-48\"/>\r\n       <use x=\"63.623047\" xlink:href=\"#DejaVuSans-46\"/>\r\n       <use x=\"95.410156\" xlink:href=\"#DejaVuSans-48\"/>\r\n       <use x=\"159.033203\" xlink:href=\"#DejaVuSans-48\"/>\r\n       <use x=\"222.65625\" xlink:href=\"#DejaVuSans-48\"/>\r\n       <use x=\"286.279297\" xlink:href=\"#DejaVuSans-54\"/>\r\n      </g>\r\n     </g>\r\n    </g>\r\n    <g id=\"text_8\">\r\n     <!-- Citable docs per Capita -->\r\n     <g transform=\"translate(156.017188 252.916562)scale(0.1 -0.1)\">\r\n      <defs>\r\n       <path d=\"M 64.40625 67.28125 \r\nL 64.40625 56.890625 \r\nQ 59.421875 61.53125 53.78125 63.8125 \r\nQ 48.140625 66.109375 41.796875 66.109375 \r\nQ 29.296875 66.109375 22.65625 58.46875 \r\nQ 16.015625 50.828125 16.015625 36.375 \r\nQ 16.015625 21.96875 22.65625 14.328125 \r\nQ 29.296875 6.6875 41.796875 6.6875 \r\nQ 48.140625 6.6875 53.78125 8.984375 \r\nQ 59.421875 11.28125 64.40625 15.921875 \r\nL 64.40625 5.609375 \r\nQ 59.234375 2.09375 53.4375 0.328125 \r\nQ 47.65625 -1.421875 41.21875 -1.421875 \r\nQ 24.65625 -1.421875 15.125 8.703125 \r\nQ 5.609375 18.84375 5.609375 36.375 \r\nQ 5.609375 53.953125 15.125 64.078125 \r\nQ 24.65625 74.21875 41.21875 74.21875 \r\nQ 47.75 74.21875 53.53125 72.484375 \r\nQ 59.328125 70.75 64.40625 67.28125 \r\nz\r\n\" id=\"DejaVuSans-67\"/>\r\n       <path d=\"M 9.421875 54.6875 \r\nL 18.40625 54.6875 \r\nL 18.40625 0 \r\nL 9.421875 0 \r\nz\r\nM 9.421875 75.984375 \r\nL 18.40625 75.984375 \r\nL 18.40625 64.59375 \r\nL 9.421875 64.59375 \r\nz\r\n\" id=\"DejaVuSans-105\"/>\r\n       <path d=\"M 18.3125 70.21875 \r\nL 18.3125 54.6875 \r\nL 36.8125 54.6875 \r\nL 36.8125 47.703125 \r\nL 18.3125 47.703125 \r\nL 18.3125 18.015625 \r\nQ 18.3125 11.328125 20.140625 9.421875 \r\nQ 21.96875 7.515625 27.59375 7.515625 \r\nL 36.8125 7.515625 \r\nL 36.8125 0 \r\nL 27.59375 0 \r\nQ 17.1875 0 13.234375 3.875 \r\nQ 9.28125 7.765625 9.28125 18.015625 \r\nL 9.28125 47.703125 \r\nL 2.6875 47.703125 \r\nL 2.6875 54.6875 \r\nL 9.28125 54.6875 \r\nL 9.28125 70.21875 \r\nz\r\n\" id=\"DejaVuSans-116\"/>\r\n       <path d=\"M 34.28125 27.484375 \r\nQ 23.390625 27.484375 19.1875 25 \r\nQ 14.984375 22.515625 14.984375 16.5 \r\nQ 14.984375 11.71875 18.140625 8.90625 \r\nQ 21.296875 6.109375 26.703125 6.109375 \r\nQ 34.1875 6.109375 38.703125 11.40625 \r\nQ 43.21875 16.703125 43.21875 25.484375 \r\nL 43.21875 27.484375 \r\nz\r\nM 52.203125 31.203125 \r\nL 52.203125 0 \r\nL 43.21875 0 \r\nL 43.21875 8.296875 \r\nQ 40.140625 3.328125 35.546875 0.953125 \r\nQ 30.953125 -1.421875 24.3125 -1.421875 \r\nQ 15.921875 -1.421875 10.953125 3.296875 \r\nQ 6 8.015625 6 15.921875 \r\nQ 6 25.140625 12.171875 29.828125 \r\nQ 18.359375 34.515625 30.609375 34.515625 \r\nL 43.21875 34.515625 \r\nL 43.21875 35.40625 \r\nQ 43.21875 41.609375 39.140625 45 \r\nQ 35.0625 48.390625 27.6875 48.390625 \r\nQ 23 48.390625 18.546875 47.265625 \r\nQ 14.109375 46.140625 10.015625 43.890625 \r\nL 10.015625 52.203125 \r\nQ 14.9375 54.109375 19.578125 55.046875 \r\nQ 24.21875 56 28.609375 56 \r\nQ 40.484375 56 46.34375 49.84375 \r\nQ 52.203125 43.703125 52.203125 31.203125 \r\nz\r\n\" id=\"DejaVuSans-97\"/>\r\n       <path d=\"M 48.6875 27.296875 \r\nQ 48.6875 37.203125 44.609375 42.84375 \r\nQ 40.53125 48.484375 33.40625 48.484375 \r\nQ 26.265625 48.484375 22.1875 42.84375 \r\nQ 18.109375 37.203125 18.109375 27.296875 \r\nQ 18.109375 17.390625 22.1875 11.75 \r\nQ 26.265625 6.109375 33.40625 6.109375 \r\nQ 40.53125 6.109375 44.609375 11.75 \r\nQ 48.6875 17.390625 48.6875 27.296875 \r\nz\r\nM 18.109375 46.390625 \r\nQ 20.953125 51.265625 25.265625 53.625 \r\nQ 29.59375 56 35.59375 56 \r\nQ 45.5625 56 51.78125 48.09375 \r\nQ 58.015625 40.1875 58.015625 27.296875 \r\nQ 58.015625 14.40625 51.78125 6.484375 \r\nQ 45.5625 -1.421875 35.59375 -1.421875 \r\nQ 29.59375 -1.421875 25.265625 0.953125 \r\nQ 20.953125 3.328125 18.109375 8.203125 \r\nL 18.109375 0 \r\nL 9.078125 0 \r\nL 9.078125 75.984375 \r\nL 18.109375 75.984375 \r\nz\r\n\" id=\"DejaVuSans-98\"/>\r\n       <path d=\"M 9.421875 75.984375 \r\nL 18.40625 75.984375 \r\nL 18.40625 0 \r\nL 9.421875 0 \r\nz\r\n\" id=\"DejaVuSans-108\"/>\r\n       <path d=\"M 56.203125 29.59375 \r\nL 56.203125 25.203125 \r\nL 14.890625 25.203125 \r\nQ 15.484375 15.921875 20.484375 11.0625 \r\nQ 25.484375 6.203125 34.421875 6.203125 \r\nQ 39.59375 6.203125 44.453125 7.46875 \r\nQ 49.3125 8.734375 54.109375 11.28125 \r\nL 54.109375 2.78125 \r\nQ 49.265625 0.734375 44.1875 -0.34375 \r\nQ 39.109375 -1.421875 33.890625 -1.421875 \r\nQ 20.796875 -1.421875 13.15625 6.1875 \r\nQ 5.515625 13.8125 5.515625 26.8125 \r\nQ 5.515625 40.234375 12.765625 48.109375 \r\nQ 20.015625 56 32.328125 56 \r\nQ 43.359375 56 49.78125 48.890625 \r\nQ 56.203125 41.796875 56.203125 29.59375 \r\nz\r\nM 47.21875 32.234375 \r\nQ 47.125 39.59375 43.09375 43.984375 \r\nQ 39.0625 48.390625 32.421875 48.390625 \r\nQ 24.90625 48.390625 20.390625 44.140625 \r\nQ 15.875 39.890625 15.1875 32.171875 \r\nz\r\n\" id=\"DejaVuSans-101\"/>\r\n       <path id=\"DejaVuSans-32\"/>\r\n       <path d=\"M 45.40625 46.390625 \r\nL 45.40625 75.984375 \r\nL 54.390625 75.984375 \r\nL 54.390625 0 \r\nL 45.40625 0 \r\nL 45.40625 8.203125 \r\nQ 42.578125 3.328125 38.25 0.953125 \r\nQ 33.9375 -1.421875 27.875 -1.421875 \r\nQ 17.96875 -1.421875 11.734375 6.484375 \r\nQ 5.515625 14.40625 5.515625 27.296875 \r\nQ 5.515625 40.1875 11.734375 48.09375 \r\nQ 17.96875 56 27.875 56 \r\nQ 33.9375 56 38.25 53.625 \r\nQ 42.578125 51.265625 45.40625 46.390625 \r\nz\r\nM 14.796875 27.296875 \r\nQ 14.796875 17.390625 18.875 11.75 \r\nQ 22.953125 6.109375 30.078125 6.109375 \r\nQ 37.203125 6.109375 41.296875 11.75 \r\nQ 45.40625 17.390625 45.40625 27.296875 \r\nQ 45.40625 37.203125 41.296875 42.84375 \r\nQ 37.203125 48.484375 30.078125 48.484375 \r\nQ 22.953125 48.484375 18.875 42.84375 \r\nQ 14.796875 37.203125 14.796875 27.296875 \r\nz\r\n\" id=\"DejaVuSans-100\"/>\r\n       <path d=\"M 30.609375 48.390625 \r\nQ 23.390625 48.390625 19.1875 42.75 \r\nQ 14.984375 37.109375 14.984375 27.296875 \r\nQ 14.984375 17.484375 19.15625 11.84375 \r\nQ 23.34375 6.203125 30.609375 6.203125 \r\nQ 37.796875 6.203125 41.984375 11.859375 \r\nQ 46.1875 17.53125 46.1875 27.296875 \r\nQ 46.1875 37.015625 41.984375 42.703125 \r\nQ 37.796875 48.390625 30.609375 48.390625 \r\nz\r\nM 30.609375 56 \r\nQ 42.328125 56 49.015625 48.375 \r\nQ 55.71875 40.765625 55.71875 27.296875 \r\nQ 55.71875 13.875 49.015625 6.21875 \r\nQ 42.328125 -1.421875 30.609375 -1.421875 \r\nQ 18.84375 -1.421875 12.171875 6.21875 \r\nQ 5.515625 13.875 5.515625 27.296875 \r\nQ 5.515625 40.765625 12.171875 48.375 \r\nQ 18.84375 56 30.609375 56 \r\nz\r\n\" id=\"DejaVuSans-111\"/>\r\n       <path d=\"M 48.78125 52.59375 \r\nL 48.78125 44.1875 \r\nQ 44.96875 46.296875 41.140625 47.34375 \r\nQ 37.3125 48.390625 33.40625 48.390625 \r\nQ 24.65625 48.390625 19.8125 42.84375 \r\nQ 14.984375 37.3125 14.984375 27.296875 \r\nQ 14.984375 17.28125 19.8125 11.734375 \r\nQ 24.65625 6.203125 33.40625 6.203125 \r\nQ 37.3125 6.203125 41.140625 7.25 \r\nQ 44.96875 8.296875 48.78125 10.40625 \r\nL 48.78125 2.09375 \r\nQ 45.015625 0.34375 40.984375 -0.53125 \r\nQ 36.96875 -1.421875 32.421875 -1.421875 \r\nQ 20.0625 -1.421875 12.78125 6.34375 \r\nQ 5.515625 14.109375 5.515625 27.296875 \r\nQ 5.515625 40.671875 12.859375 48.328125 \r\nQ 20.21875 56 33.015625 56 \r\nQ 37.15625 56 41.109375 55.140625 \r\nQ 45.0625 54.296875 48.78125 52.59375 \r\nz\r\n\" id=\"DejaVuSans-99\"/>\r\n       <path d=\"M 44.28125 53.078125 \r\nL 44.28125 44.578125 \r\nQ 40.484375 46.53125 36.375 47.5 \r\nQ 32.28125 48.484375 27.875 48.484375 \r\nQ 21.1875 48.484375 17.84375 46.4375 \r\nQ 14.5 44.390625 14.5 40.28125 \r\nQ 14.5 37.15625 16.890625 35.375 \r\nQ 19.28125 33.59375 26.515625 31.984375 \r\nL 29.59375 31.296875 \r\nQ 39.15625 29.25 43.1875 25.515625 \r\nQ 47.21875 21.78125 47.21875 15.09375 \r\nQ 47.21875 7.46875 41.1875 3.015625 \r\nQ 35.15625 -1.421875 24.609375 -1.421875 \r\nQ 20.21875 -1.421875 15.453125 -0.5625 \r\nQ 10.6875 0.296875 5.421875 2 \r\nL 5.421875 11.28125 \r\nQ 10.40625 8.6875 15.234375 7.390625 \r\nQ 20.0625 6.109375 24.8125 6.109375 \r\nQ 31.15625 6.109375 34.5625 8.28125 \r\nQ 37.984375 10.453125 37.984375 14.40625 \r\nQ 37.984375 18.0625 35.515625 20.015625 \r\nQ 33.0625 21.96875 24.703125 23.78125 \r\nL 21.578125 24.515625 \r\nQ 13.234375 26.265625 9.515625 29.90625 \r\nQ 5.8125 33.546875 5.8125 39.890625 \r\nQ 5.8125 47.609375 11.28125 51.796875 \r\nQ 16.75 56 26.8125 56 \r\nQ 31.78125 56 36.171875 55.265625 \r\nQ 40.578125 54.546875 44.28125 53.078125 \r\nz\r\n\" id=\"DejaVuSans-115\"/>\r\n       <path d=\"M 18.109375 8.203125 \r\nL 18.109375 -20.796875 \r\nL 9.078125 -20.796875 \r\nL 9.078125 54.6875 \r\nL 18.109375 54.6875 \r\nL 18.109375 46.390625 \r\nQ 20.953125 51.265625 25.265625 53.625 \r\nQ 29.59375 56 35.59375 56 \r\nQ 45.5625 56 51.78125 48.09375 \r\nQ 58.015625 40.1875 58.015625 27.296875 \r\nQ 58.015625 14.40625 51.78125 6.484375 \r\nQ 45.5625 -1.421875 35.59375 -1.421875 \r\nQ 29.59375 -1.421875 25.265625 0.953125 \r\nQ 20.953125 3.328125 18.109375 8.203125 \r\nz\r\nM 48.6875 27.296875 \r\nQ 48.6875 37.203125 44.609375 42.84375 \r\nQ 40.53125 48.484375 33.40625 48.484375 \r\nQ 26.265625 48.484375 22.1875 42.84375 \r\nQ 18.109375 37.203125 18.109375 27.296875 \r\nQ 18.109375 17.390625 22.1875 11.75 \r\nQ 26.265625 6.109375 33.40625 6.109375 \r\nQ 40.53125 6.109375 44.609375 11.75 \r\nQ 48.6875 17.390625 48.6875 27.296875 \r\nz\r\n\" id=\"DejaVuSans-112\"/>\r\n       <path d=\"M 41.109375 46.296875 \r\nQ 39.59375 47.171875 37.8125 47.578125 \r\nQ 36.03125 48 33.890625 48 \r\nQ 26.265625 48 22.1875 43.046875 \r\nQ 18.109375 38.09375 18.109375 28.8125 \r\nL 18.109375 0 \r\nL 9.078125 0 \r\nL 9.078125 54.6875 \r\nL 18.109375 54.6875 \r\nL 18.109375 46.1875 \r\nQ 20.953125 51.171875 25.484375 53.578125 \r\nQ 30.03125 56 36.53125 56 \r\nQ 37.453125 56 38.578125 55.875 \r\nQ 39.703125 55.765625 41.0625 55.515625 \r\nz\r\n\" id=\"DejaVuSans-114\"/>\r\n      </defs>\r\n      <use xlink:href=\"#DejaVuSans-67\"/>\r\n      <use x=\"69.824219\" xlink:href=\"#DejaVuSans-105\"/>\r\n      <use x=\"97.607422\" xlink:href=\"#DejaVuSans-116\"/>\r\n      <use x=\"136.816406\" xlink:href=\"#DejaVuSans-97\"/>\r\n      <use x=\"198.095703\" xlink:href=\"#DejaVuSans-98\"/>\r\n      <use x=\"261.572266\" xlink:href=\"#DejaVuSans-108\"/>\r\n      <use x=\"289.355469\" xlink:href=\"#DejaVuSans-101\"/>\r\n      <use x=\"350.878906\" xlink:href=\"#DejaVuSans-32\"/>\r\n      <use x=\"382.666016\" xlink:href=\"#DejaVuSans-100\"/>\r\n      <use x=\"446.142578\" xlink:href=\"#DejaVuSans-111\"/>\r\n      <use x=\"507.324219\" xlink:href=\"#DejaVuSans-99\"/>\r\n      <use x=\"562.304688\" xlink:href=\"#DejaVuSans-115\"/>\r\n      <use x=\"614.404297\" xlink:href=\"#DejaVuSans-32\"/>\r\n      <use x=\"646.191406\" xlink:href=\"#DejaVuSans-112\"/>\r\n      <use x=\"709.667969\" xlink:href=\"#DejaVuSans-101\"/>\r\n      <use x=\"771.191406\" xlink:href=\"#DejaVuSans-114\"/>\r\n      <use x=\"812.304688\" xlink:href=\"#DejaVuSans-32\"/>\r\n      <use x=\"844.091797\" xlink:href=\"#DejaVuSans-67\"/>\r\n      <use x=\"913.916016\" xlink:href=\"#DejaVuSans-97\"/>\r\n      <use x=\"975.195312\" xlink:href=\"#DejaVuSans-112\"/>\r\n      <use x=\"1038.671875\" xlink:href=\"#DejaVuSans-105\"/>\r\n      <use x=\"1066.455078\" xlink:href=\"#DejaVuSans-116\"/>\r\n      <use x=\"1105.664062\" xlink:href=\"#DejaVuSans-97\"/>\r\n     </g>\r\n    </g>\r\n   </g>\r\n   <g id=\"matplotlib.axis_2\">\r\n    <g id=\"ytick_1\">\r\n     <g id=\"line2d_8\">\r\n      <defs>\r\n       <path d=\"M 0 0 \r\nL -3.5 0 \r\n\" id=\"m840f287a4f\" style=\"stroke:#000000;stroke-width:0.8;\"/>\r\n      </defs>\r\n      <g>\r\n       <use style=\"stroke:#000000;stroke-width:0.8;\" x=\"46.965625\" xlink:href=\"#m840f287a4f\" y=\"197.185455\"/>\r\n      </g>\r\n     </g>\r\n     <g id=\"text_9\">\r\n      <!-- 50 -->\r\n      <g transform=\"translate(27.240625 200.984673)scale(0.1 -0.1)\">\r\n       <use xlink:href=\"#DejaVuSans-53\"/>\r\n       <use x=\"63.623047\" xlink:href=\"#DejaVuSans-48\"/>\r\n      </g>\r\n     </g>\r\n    </g>\r\n    <g id=\"ytick_2\">\r\n     <g id=\"line2d_9\">\r\n      <g>\r\n       <use style=\"stroke:#000000;stroke-width:0.8;\" x=\"46.965625\" xlink:href=\"#m840f287a4f\" y=\"160.579394\"/>\r\n      </g>\r\n     </g>\r\n     <g id=\"text_10\">\r\n      <!-- 100 -->\r\n      <g transform=\"translate(20.878125 164.378613)scale(0.1 -0.1)\">\r\n       <use xlink:href=\"#DejaVuSans-49\"/>\r\n       <use x=\"63.623047\" xlink:href=\"#DejaVuSans-48\"/>\r\n       <use x=\"127.246094\" xlink:href=\"#DejaVuSans-48\"/>\r\n      </g>\r\n     </g>\r\n    </g>\r\n    <g id=\"ytick_3\">\r\n     <g id=\"line2d_10\">\r\n      <g>\r\n       <use style=\"stroke:#000000;stroke-width:0.8;\" x=\"46.965625\" xlink:href=\"#m840f287a4f\" y=\"123.973333\"/>\r\n      </g>\r\n     </g>\r\n     <g id=\"text_11\">\r\n      <!-- 150 -->\r\n      <g transform=\"translate(20.878125 127.772552)scale(0.1 -0.1)\">\r\n       <use xlink:href=\"#DejaVuSans-49\"/>\r\n       <use x=\"63.623047\" xlink:href=\"#DejaVuSans-53\"/>\r\n       <use x=\"127.246094\" xlink:href=\"#DejaVuSans-48\"/>\r\n      </g>\r\n     </g>\r\n    </g>\r\n    <g id=\"ytick_4\">\r\n     <g id=\"line2d_11\">\r\n      <g>\r\n       <use style=\"stroke:#000000;stroke-width:0.8;\" x=\"46.965625\" xlink:href=\"#m840f287a4f\" y=\"87.367273\"/>\r\n      </g>\r\n     </g>\r\n     <g id=\"text_12\">\r\n      <!-- 200 -->\r\n      <g transform=\"translate(20.878125 91.166491)scale(0.1 -0.1)\">\r\n       <use xlink:href=\"#DejaVuSans-50\"/>\r\n       <use x=\"63.623047\" xlink:href=\"#DejaVuSans-48\"/>\r\n       <use x=\"127.246094\" xlink:href=\"#DejaVuSans-48\"/>\r\n      </g>\r\n     </g>\r\n    </g>\r\n    <g id=\"ytick_5\">\r\n     <g id=\"line2d_12\">\r\n      <g>\r\n       <use style=\"stroke:#000000;stroke-width:0.8;\" x=\"46.965625\" xlink:href=\"#m840f287a4f\" y=\"50.761212\"/>\r\n      </g>\r\n     </g>\r\n     <g id=\"text_13\">\r\n      <!-- 250 -->\r\n      <g transform=\"translate(20.878125 54.560431)scale(0.1 -0.1)\">\r\n       <use xlink:href=\"#DejaVuSans-50\"/>\r\n       <use x=\"63.623047\" xlink:href=\"#DejaVuSans-53\"/>\r\n       <use x=\"127.246094\" xlink:href=\"#DejaVuSans-48\"/>\r\n      </g>\r\n     </g>\r\n    </g>\r\n    <g id=\"ytick_6\">\r\n     <g id=\"line2d_13\">\r\n      <g>\r\n       <use style=\"stroke:#000000;stroke-width:0.8;\" x=\"46.965625\" xlink:href=\"#m840f287a4f\" y=\"14.155152\"/>\r\n      </g>\r\n     </g>\r\n     <g id=\"text_14\">\r\n      <!-- 300 -->\r\n      <g transform=\"translate(20.878125 17.95437)scale(0.1 -0.1)\">\r\n       <use xlink:href=\"#DejaVuSans-51\"/>\r\n       <use x=\"63.623047\" xlink:href=\"#DejaVuSans-48\"/>\r\n       <use x=\"127.246094\" xlink:href=\"#DejaVuSans-48\"/>\r\n      </g>\r\n     </g>\r\n    </g>\r\n    <g id=\"text_15\">\r\n     <!-- Energy Supply per Capita -->\r\n     <g transform=\"translate(14.798438 179.6825)rotate(-90)scale(0.1 -0.1)\">\r\n      <defs>\r\n       <path d=\"M 9.8125 72.90625 \r\nL 55.90625 72.90625 \r\nL 55.90625 64.59375 \r\nL 19.671875 64.59375 \r\nL 19.671875 43.015625 \r\nL 54.390625 43.015625 \r\nL 54.390625 34.71875 \r\nL 19.671875 34.71875 \r\nL 19.671875 8.296875 \r\nL 56.78125 8.296875 \r\nL 56.78125 0 \r\nL 9.8125 0 \r\nz\r\n\" id=\"DejaVuSans-69\"/>\r\n       <path d=\"M 54.890625 33.015625 \r\nL 54.890625 0 \r\nL 45.90625 0 \r\nL 45.90625 32.71875 \r\nQ 45.90625 40.484375 42.875 44.328125 \r\nQ 39.84375 48.1875 33.796875 48.1875 \r\nQ 26.515625 48.1875 22.3125 43.546875 \r\nQ 18.109375 38.921875 18.109375 30.90625 \r\nL 18.109375 0 \r\nL 9.078125 0 \r\nL 9.078125 54.6875 \r\nL 18.109375 54.6875 \r\nL 18.109375 46.1875 \r\nQ 21.34375 51.125 25.703125 53.5625 \r\nQ 30.078125 56 35.796875 56 \r\nQ 45.21875 56 50.046875 50.171875 \r\nQ 54.890625 44.34375 54.890625 33.015625 \r\nz\r\n\" id=\"DejaVuSans-110\"/>\r\n       <path d=\"M 45.40625 27.984375 \r\nQ 45.40625 37.75 41.375 43.109375 \r\nQ 37.359375 48.484375 30.078125 48.484375 \r\nQ 22.859375 48.484375 18.828125 43.109375 \r\nQ 14.796875 37.75 14.796875 27.984375 \r\nQ 14.796875 18.265625 18.828125 12.890625 \r\nQ 22.859375 7.515625 30.078125 7.515625 \r\nQ 37.359375 7.515625 41.375 12.890625 \r\nQ 45.40625 18.265625 45.40625 27.984375 \r\nz\r\nM 54.390625 6.78125 \r\nQ 54.390625 -7.171875 48.1875 -13.984375 \r\nQ 42 -20.796875 29.203125 -20.796875 \r\nQ 24.46875 -20.796875 20.265625 -20.09375 \r\nQ 16.0625 -19.390625 12.109375 -17.921875 \r\nL 12.109375 -9.1875 \r\nQ 16.0625 -11.328125 19.921875 -12.34375 \r\nQ 23.78125 -13.375 27.78125 -13.375 \r\nQ 36.625 -13.375 41.015625 -8.765625 \r\nQ 45.40625 -4.15625 45.40625 5.171875 \r\nL 45.40625 9.625 \r\nQ 42.625 4.78125 38.28125 2.390625 \r\nQ 33.9375 0 27.875 0 \r\nQ 17.828125 0 11.671875 7.65625 \r\nQ 5.515625 15.328125 5.515625 27.984375 \r\nQ 5.515625 40.671875 11.671875 48.328125 \r\nQ 17.828125 56 27.875 56 \r\nQ 33.9375 56 38.28125 53.609375 \r\nQ 42.625 51.21875 45.40625 46.390625 \r\nL 45.40625 54.6875 \r\nL 54.390625 54.6875 \r\nz\r\n\" id=\"DejaVuSans-103\"/>\r\n       <path d=\"M 32.171875 -5.078125 \r\nQ 28.375 -14.84375 24.75 -17.8125 \r\nQ 21.140625 -20.796875 15.09375 -20.796875 \r\nL 7.90625 -20.796875 \r\nL 7.90625 -13.28125 \r\nL 13.1875 -13.28125 \r\nQ 16.890625 -13.28125 18.9375 -11.515625 \r\nQ 21 -9.765625 23.484375 -3.21875 \r\nL 25.09375 0.875 \r\nL 2.984375 54.6875 \r\nL 12.5 54.6875 \r\nL 29.59375 11.921875 \r\nL 46.6875 54.6875 \r\nL 56.203125 54.6875 \r\nz\r\n\" id=\"DejaVuSans-121\"/>\r\n       <path d=\"M 53.515625 70.515625 \r\nL 53.515625 60.890625 \r\nQ 47.90625 63.578125 42.921875 64.890625 \r\nQ 37.9375 66.21875 33.296875 66.21875 \r\nQ 25.25 66.21875 20.875 63.09375 \r\nQ 16.5 59.96875 16.5 54.203125 \r\nQ 16.5 49.359375 19.40625 46.890625 \r\nQ 22.3125 44.4375 30.421875 42.921875 \r\nL 36.375 41.703125 \r\nQ 47.40625 39.59375 52.65625 34.296875 \r\nQ 57.90625 29 57.90625 20.125 \r\nQ 57.90625 9.515625 50.796875 4.046875 \r\nQ 43.703125 -1.421875 29.984375 -1.421875 \r\nQ 24.8125 -1.421875 18.96875 -0.25 \r\nQ 13.140625 0.921875 6.890625 3.21875 \r\nL 6.890625 13.375 \r\nQ 12.890625 10.015625 18.65625 8.296875 \r\nQ 24.421875 6.59375 29.984375 6.59375 \r\nQ 38.421875 6.59375 43.015625 9.90625 \r\nQ 47.609375 13.234375 47.609375 19.390625 \r\nQ 47.609375 24.75 44.3125 27.78125 \r\nQ 41.015625 30.8125 33.5 32.328125 \r\nL 27.484375 33.5 \r\nQ 16.453125 35.6875 11.515625 40.375 \r\nQ 6.59375 45.0625 6.59375 53.421875 \r\nQ 6.59375 63.09375 13.40625 68.65625 \r\nQ 20.21875 74.21875 32.171875 74.21875 \r\nQ 37.3125 74.21875 42.625 73.28125 \r\nQ 47.953125 72.359375 53.515625 70.515625 \r\nz\r\n\" id=\"DejaVuSans-83\"/>\r\n       <path d=\"M 8.5 21.578125 \r\nL 8.5 54.6875 \r\nL 17.484375 54.6875 \r\nL 17.484375 21.921875 \r\nQ 17.484375 14.15625 20.5 10.265625 \r\nQ 23.53125 6.390625 29.59375 6.390625 \r\nQ 36.859375 6.390625 41.078125 11.03125 \r\nQ 45.3125 15.671875 45.3125 23.6875 \r\nL 45.3125 54.6875 \r\nL 54.296875 54.6875 \r\nL 54.296875 0 \r\nL 45.3125 0 \r\nL 45.3125 8.40625 \r\nQ 42.046875 3.421875 37.71875 1 \r\nQ 33.40625 -1.421875 27.6875 -1.421875 \r\nQ 18.265625 -1.421875 13.375 4.4375 \r\nQ 8.5 10.296875 8.5 21.578125 \r\nz\r\nM 31.109375 56 \r\nz\r\n\" id=\"DejaVuSans-117\"/>\r\n      </defs>\r\n      <use xlink:href=\"#DejaVuSans-69\"/>\r\n      <use x=\"63.183594\" xlink:href=\"#DejaVuSans-110\"/>\r\n      <use x=\"126.5625\" xlink:href=\"#DejaVuSans-101\"/>\r\n      <use x=\"188.085938\" xlink:href=\"#DejaVuSans-114\"/>\r\n      <use x=\"227.449219\" xlink:href=\"#DejaVuSans-103\"/>\r\n      <use x=\"290.925781\" xlink:href=\"#DejaVuSans-121\"/>\r\n      <use x=\"350.105469\" xlink:href=\"#DejaVuSans-32\"/>\r\n      <use x=\"381.892578\" xlink:href=\"#DejaVuSans-83\"/>\r\n      <use x=\"445.369141\" xlink:href=\"#DejaVuSans-117\"/>\r\n      <use x=\"508.748047\" xlink:href=\"#DejaVuSans-112\"/>\r\n      <use x=\"572.224609\" xlink:href=\"#DejaVuSans-112\"/>\r\n      <use x=\"635.701172\" xlink:href=\"#DejaVuSans-108\"/>\r\n      <use x=\"663.484375\" xlink:href=\"#DejaVuSans-121\"/>\r\n      <use x=\"722.664062\" xlink:href=\"#DejaVuSans-32\"/>\r\n      <use x=\"754.451172\" xlink:href=\"#DejaVuSans-112\"/>\r\n      <use x=\"817.927734\" xlink:href=\"#DejaVuSans-101\"/>\r\n      <use x=\"879.451172\" xlink:href=\"#DejaVuSans-114\"/>\r\n      <use x=\"920.564453\" xlink:href=\"#DejaVuSans-32\"/>\r\n      <use x=\"952.351562\" xlink:href=\"#DejaVuSans-67\"/>\r\n      <use x=\"1022.175781\" xlink:href=\"#DejaVuSans-97\"/>\r\n      <use x=\"1083.455078\" xlink:href=\"#DejaVuSans-112\"/>\r\n      <use x=\"1146.931641\" xlink:href=\"#DejaVuSans-105\"/>\r\n      <use x=\"1174.714844\" xlink:href=\"#DejaVuSans-116\"/>\r\n      <use x=\"1213.923828\" xlink:href=\"#DejaVuSans-97\"/>\r\n     </g>\r\n    </g>\r\n   </g>\r\n   <g id=\"patch_3\">\r\n    <path d=\"M 46.965625 224.64 \r\nL 46.965625 7.2 \r\n\" style=\"fill:none;stroke:#000000;stroke-linecap:square;stroke-linejoin:miter;stroke-width:0.8;\"/>\r\n   </g>\r\n   <g id=\"patch_4\">\r\n    <path d=\"M 381.765625 224.64 \r\nL 381.765625 7.2 \r\n\" style=\"fill:none;stroke:#000000;stroke-linecap:square;stroke-linejoin:miter;stroke-width:0.8;\"/>\r\n   </g>\r\n   <g id=\"patch_5\">\r\n    <path d=\"M 46.965625 224.64 \r\nL 381.765625 224.64 \r\n\" style=\"fill:none;stroke:#000000;stroke-linecap:square;stroke-linejoin:miter;stroke-width:0.8;\"/>\r\n   </g>\r\n   <g id=\"patch_6\">\r\n    <path d=\"M 46.965625 7.2 \r\nL 381.765625 7.2 \r\n\" style=\"fill:none;stroke:#000000;stroke-linecap:square;stroke-linejoin:miter;stroke-width:0.8;\"/>\r\n   </g>\r\n  </g>\r\n </g>\r\n <defs>\r\n  <clipPath id=\"p37b2eed872\">\r\n   <rect height=\"217.44\" width=\"334.8\" x=\"46.965625\" y=\"7.2\"/>\r\n  </clipPath>\r\n </defs>\r\n</svg>\r\n",
      "image/png": "[encoded data removed]"
     },
     "metadata": {
      "needs_background": "light"
     }
    }
   ],
   "source": [
    "plot9()"
   ]
  },
  {
   "source": [
    "## Question 10\n",
    "Create a new column with a 1 if the country's % Renewable value is at or above the median for all countries in the top 15, and a 0 if the country's % Renewable value is below the median.\n",
    "\n",
    "This function should return a series named HighRenew whose index is the country name sorted in ascending order of rank."
   ],
   "cell_type": "markdown",
   "metadata": {}
  },
  {
   "cell_type": "code",
   "execution_count": 192,
   "metadata": {},
   "outputs": [],
   "source": [
    "def answer_ten():\n",
    "    # YOUR CODE HERE\n",
    "    import statistics\n",
    "\n",
    "    Top15 = answer_one()\n",
    "    mean = statistics.median(Top15['% Renewable'])\n",
    "    Top15['HighRenew'] = Top15['% Renewable'].apply(lambda x: 1 if x >= mean else 0)\n",
    "    return Top15['HighRenew']\n",
    "    #raise NotImplementedError()"
   ]
  },
  {
   "cell_type": "code",
   "execution_count": null,
   "metadata": {},
   "outputs": [],
   "source": [
    "assert type(answer_ten()) == pd.Series, \"Q10: You should return a Series!\""
   ]
  },
  {
   "source": [
    "## Question 11\n",
    "Use the following dictionary to group the Countries by Continent, then create a DataFrame that displays the sample size (the number of countries in each continent bin), and the sum, mean, and std deviation for the estimated population of each country.\n",
    "\n",
    "ContinentDict  = {'China':'Asia', \n",
    "                  'United States':'North America', \n",
    "                  'Japan':'Asia', \n",
    "                  'United Kingdom':'Europe', \n",
    "                  'Russian Federation':'Europe', \n",
    "                  'Canada':'North America', \n",
    "                  'Germany':'Europe', \n",
    "                  'India':'Asia',\n",
    "                  'France':'Europe', \n",
    "                  'South Korea':'Asia', \n",
    "                  'Italy':'Europe', \n",
    "                  'Spain':'Europe', \n",
    "                  'Iran':'Asia',\n",
    "                  'Australia':'Australia', \n",
    "                  'Brazil':'South America'}\n",
    "\n",
    "This function should return a DataFrame with index named Continent ['Asia', 'Australia', 'Europe', 'North America', 'South America'] and columns ['size', 'sum', 'mean', 'std']"
   ],
   "cell_type": "markdown",
   "metadata": {}
  },
  {
   "cell_type": "code",
   "execution_count": null,
   "metadata": {},
   "outputs": [],
   "source": [
    "    # merge 'ScimEn' 'Energy' 'GDP'\n",
    "    df = pd.merge(pd.merge(ScimEn, Energy, how='inner', left_index=True, right_index=True), GDP, how='inner', left_index=True,    \n",
    "         right_index=True)"
   ]
  },
  {
   "cell_type": "code",
   "execution_count": 204,
   "metadata": {},
   "outputs": [
    {
     "output_type": "execute_result",
     "data": {
      "text/plain": [
       "                    Rank  Documents  Citable documents  Citations  \\\n",
       "China                  1     127050             126767     597237   \n",
       "United States          2      96661              94747     792274   \n",
       "Japan                  3      30504              30287     223024   \n",
       "United Kingdom         4      20944              20357     206091   \n",
       "Russian Federation     5      18534              18301      34266   \n",
       "Canada                 6      17899              17620     215003   \n",
       "Germany                7      17027              16831     140566   \n",
       "India                  8      15005              14841     128763   \n",
       "France                 9      13153              12973     130632   \n",
       "South Korea           10      11983              11923     114675   \n",
       "Italy                 11      10964              10794     111850   \n",
       "Spain                 12       9428               9330     123336   \n",
       "Iran                  13       8896               8819      57470   \n",
       "Australia             14       8831               8725      90765   \n",
       "Brazil                15       8668               8596      60702   \n",
       "\n",
       "                    Self-citations  Citations per document  H index  \\\n",
       "China                       411683                    4.70      138   \n",
       "United States               265436                    8.20      230   \n",
       "Japan                        61554                    7.31      134   \n",
       "United Kingdom               37874                    9.84      139   \n",
       "Russian Federation           12422                    1.85       57   \n",
       "Canada                       40930                   12.01      149   \n",
       "Germany                      27426                    8.26      126   \n",
       "India                        37209                    8.58      115   \n",
       "France                       28601                    9.93      114   \n",
       "South Korea                  22595                    9.57      104   \n",
       "Italy                        26661                   10.20      106   \n",
       "Spain                        23964                   13.08      115   \n",
       "Iran                         19125                    6.46       72   \n",
       "Australia                    15606                   10.28      107   \n",
       "Brazil                       14396                    7.00       86   \n",
       "\n",
       "                    Energy Supply  Energy Supply per Capita  % Renewable  ...  \\\n",
       "China                1.271910e+11                      93.0    19.754910  ...   \n",
       "United States        9.083800e+10                     286.0    11.570980  ...   \n",
       "Japan                1.898400e+10                     149.0    10.232820  ...   \n",
       "United Kingdom       7.920000e+09                     124.0    10.600470  ...   \n",
       "Russian Federation   3.070900e+10                     214.0    17.288680  ...   \n",
       "Canada               1.043100e+10                     296.0    61.945430  ...   \n",
       "Germany              1.326100e+10                     165.0    17.901530  ...   \n",
       "India                3.319500e+10                      26.0    14.969080  ...   \n",
       "France               1.059700e+10                     166.0    17.020280  ...   \n",
       "South Korea          1.100700e+10                     221.0     2.279353  ...   \n",
       "Italy                6.530000e+09                     109.0    33.667230  ...   \n",
       "Spain                4.923000e+09                     106.0    37.968590  ...   \n",
       "Iran                 9.172000e+09                     119.0     5.707721  ...   \n",
       "Australia            5.386000e+09                     231.0    11.810810  ...   \n",
       "Brazil               1.214900e+10                      59.0    69.648030  ...   \n",
       "\n",
       "                            2007          2008          2009          2010  \\\n",
       "China               4.559041e+12  4.997775e+12  5.459247e+12  6.039659e+12   \n",
       "United States       1.505540e+13  1.501149e+13  1.459484e+13  1.496437e+13   \n",
       "Japan               5.617036e+12  5.558527e+12  5.251308e+12  5.498718e+12   \n",
       "United Kingdom      2.482203e+12  2.470614e+12  2.367048e+12  2.403504e+12   \n",
       "Russian Federation  1.504071e+12  1.583004e+12  1.459199e+12  1.524917e+12   \n",
       "Canada              1.596740e+12  1.612713e+12  1.565145e+12  1.613406e+12   \n",
       "Germany             3.441561e+12  3.478809e+12  3.283340e+12  3.417298e+12   \n",
       "India               1.374865e+12  1.428361e+12  1.549483e+12  1.708459e+12   \n",
       "France              2.669424e+12  2.674637e+12  2.595967e+12  2.646995e+12   \n",
       "South Korea         9.924316e+11  1.020510e+12  1.027730e+12  1.094499e+12   \n",
       "Italy               2.234627e+12  2.211154e+12  2.089938e+12  2.125185e+12   \n",
       "Spain               1.468146e+12  1.484530e+12  1.431475e+12  1.431673e+12   \n",
       "Iran                4.250646e+11  4.289909e+11  4.389208e+11  4.677902e+11   \n",
       "Australia           1.060340e+12  1.099644e+12  1.119654e+12  1.142251e+12   \n",
       "Brazil              1.957118e+12  2.056809e+12  2.054215e+12  2.208872e+12   \n",
       "\n",
       "                            2011          2012          2013          2014  \\\n",
       "China               6.612490e+12  7.124978e+12  7.672448e+12  8.230121e+12   \n",
       "United States       1.520402e+13  1.554216e+13  1.577367e+13  1.615662e+13   \n",
       "Japan               5.473738e+12  5.569102e+12  5.644659e+12  5.642884e+12   \n",
       "United Kingdom      2.450911e+12  2.479809e+12  2.533370e+12  2.605643e+12   \n",
       "Russian Federation  1.589943e+12  1.645876e+12  1.666934e+12  1.678709e+12   \n",
       "Canada              1.664087e+12  1.693133e+12  1.730688e+12  1.773486e+12   \n",
       "Germany             3.542371e+12  3.556724e+12  3.567317e+12  3.624386e+12   \n",
       "India               1.821872e+12  1.924235e+12  2.051982e+12  2.200617e+12   \n",
       "France              2.702032e+12  2.706968e+12  2.722567e+12  2.729632e+12   \n",
       "South Korea         1.134796e+12  1.160809e+12  1.194429e+12  1.234340e+12   \n",
       "Italy               2.137439e+12  2.077184e+12  2.040871e+12  2.033868e+12   \n",
       "Spain               1.417355e+12  1.380216e+12  1.357139e+12  1.375605e+12   \n",
       "Iran                4.853309e+11  4.532569e+11  4.445926e+11  4.639027e+11   \n",
       "Australia           1.169431e+12  1.211913e+12  1.241484e+12  1.272520e+12   \n",
       "Brazil              2.295245e+12  2.339209e+12  2.409740e+12  2.412231e+12   \n",
       "\n",
       "                            2015              0  \n",
       "China               8.797999e+12           Asia  \n",
       "United States       1.654857e+13  North America  \n",
       "Japan               5.669563e+12           Asia  \n",
       "United Kingdom      2.666333e+12         Europe  \n",
       "Russian Federation  1.616149e+12         Europe  \n",
       "Canada              1.792609e+12  North America  \n",
       "Germany             3.685556e+12         Europe  \n",
       "India               2.367206e+12           Asia  \n",
       "France              2.761185e+12         Europe  \n",
       "South Korea         1.266580e+12           Asia  \n",
       "Italy               2.049316e+12         Europe  \n",
       "Spain               1.419821e+12         Europe  \n",
       "Iran                         NaN           Asia  \n",
       "Australia           1.301251e+12      Australia  \n",
       "Brazil              2.319423e+12  South America  \n",
       "\n",
       "[15 rows x 21 columns]"
      ],
      "text/html": "<div>\n<style scoped>\n    .dataframe tbody tr th:only-of-type {\n        vertical-align: middle;\n    }\n\n    .dataframe tbody tr th {\n        vertical-align: top;\n    }\n\n    .dataframe thead th {\n        text-align: right;\n    }\n</style>\n<table border=\"1\" class=\"dataframe\">\n  <thead>\n    <tr style=\"text-align: right;\">\n      <th></th>\n      <th>Rank</th>\n      <th>Documents</th>\n      <th>Citable documents</th>\n      <th>Citations</th>\n      <th>Self-citations</th>\n      <th>Citations per document</th>\n      <th>H index</th>\n      <th>Energy Supply</th>\n      <th>Energy Supply per Capita</th>\n      <th>% Renewable</th>\n      <th>...</th>\n      <th>2007</th>\n      <th>2008</th>\n      <th>2009</th>\n      <th>2010</th>\n      <th>2011</th>\n      <th>2012</th>\n      <th>2013</th>\n      <th>2014</th>\n      <th>2015</th>\n      <th>0</th>\n    </tr>\n  </thead>\n  <tbody>\n    <tr>\n      <th>China</th>\n      <td>1</td>\n      <td>127050</td>\n      <td>126767</td>\n      <td>597237</td>\n      <td>411683</td>\n      <td>4.70</td>\n      <td>138</td>\n      <td>1.271910e+11</td>\n      <td>93.0</td>\n      <td>19.754910</td>\n      <td>...</td>\n      <td>4.559041e+12</td>\n      <td>4.997775e+12</td>\n      <td>5.459247e+12</td>\n      <td>6.039659e+12</td>\n      <td>6.612490e+12</td>\n      <td>7.124978e+12</td>\n      <td>7.672448e+12</td>\n      <td>8.230121e+12</td>\n      <td>8.797999e+12</td>\n      <td>Asia</td>\n    </tr>\n    <tr>\n      <th>United States</th>\n      <td>2</td>\n      <td>96661</td>\n      <td>94747</td>\n      <td>792274</td>\n      <td>265436</td>\n      <td>8.20</td>\n      <td>230</td>\n      <td>9.083800e+10</td>\n      <td>286.0</td>\n      <td>11.570980</td>\n      <td>...</td>\n      <td>1.505540e+13</td>\n      <td>1.501149e+13</td>\n      <td>1.459484e+13</td>\n      <td>1.496437e+13</td>\n      <td>1.520402e+13</td>\n      <td>1.554216e+13</td>\n      <td>1.577367e+13</td>\n      <td>1.615662e+13</td>\n      <td>1.654857e+13</td>\n      <td>North America</td>\n    </tr>\n    <tr>\n      <th>Japan</th>\n      <td>3</td>\n      <td>30504</td>\n      <td>30287</td>\n      <td>223024</td>\n      <td>61554</td>\n      <td>7.31</td>\n      <td>134</td>\n      <td>1.898400e+10</td>\n      <td>149.0</td>\n      <td>10.232820</td>\n      <td>...</td>\n      <td>5.617036e+12</td>\n      <td>5.558527e+12</td>\n      <td>5.251308e+12</td>\n      <td>5.498718e+12</td>\n      <td>5.473738e+12</td>\n      <td>5.569102e+12</td>\n      <td>5.644659e+12</td>\n      <td>5.642884e+12</td>\n      <td>5.669563e+12</td>\n      <td>Asia</td>\n    </tr>\n    <tr>\n      <th>United Kingdom</th>\n      <td>4</td>\n      <td>20944</td>\n      <td>20357</td>\n      <td>206091</td>\n      <td>37874</td>\n      <td>9.84</td>\n      <td>139</td>\n      <td>7.920000e+09</td>\n      <td>124.0</td>\n      <td>10.600470</td>\n      <td>...</td>\n      <td>2.482203e+12</td>\n      <td>2.470614e+12</td>\n      <td>2.367048e+12</td>\n      <td>2.403504e+12</td>\n      <td>2.450911e+12</td>\n      <td>2.479809e+12</td>\n      <td>2.533370e+12</td>\n      <td>2.605643e+12</td>\n      <td>2.666333e+12</td>\n      <td>Europe</td>\n    </tr>\n    <tr>\n      <th>Russian Federation</th>\n      <td>5</td>\n      <td>18534</td>\n      <td>18301</td>\n      <td>34266</td>\n      <td>12422</td>\n      <td>1.85</td>\n      <td>57</td>\n      <td>3.070900e+10</td>\n      <td>214.0</td>\n      <td>17.288680</td>\n      <td>...</td>\n      <td>1.504071e+12</td>\n      <td>1.583004e+12</td>\n      <td>1.459199e+12</td>\n      <td>1.524917e+12</td>\n      <td>1.589943e+12</td>\n      <td>1.645876e+12</td>\n      <td>1.666934e+12</td>\n      <td>1.678709e+12</td>\n      <td>1.616149e+12</td>\n      <td>Europe</td>\n    </tr>\n    <tr>\n      <th>Canada</th>\n      <td>6</td>\n      <td>17899</td>\n      <td>17620</td>\n      <td>215003</td>\n      <td>40930</td>\n      <td>12.01</td>\n      <td>149</td>\n      <td>1.043100e+10</td>\n      <td>296.0</td>\n      <td>61.945430</td>\n      <td>...</td>\n      <td>1.596740e+12</td>\n      <td>1.612713e+12</td>\n      <td>1.565145e+12</td>\n      <td>1.613406e+12</td>\n      <td>1.664087e+12</td>\n      <td>1.693133e+12</td>\n      <td>1.730688e+12</td>\n      <td>1.773486e+12</td>\n      <td>1.792609e+12</td>\n      <td>North America</td>\n    </tr>\n    <tr>\n      <th>Germany</th>\n      <td>7</td>\n      <td>17027</td>\n      <td>16831</td>\n      <td>140566</td>\n      <td>27426</td>\n      <td>8.26</td>\n      <td>126</td>\n      <td>1.326100e+10</td>\n      <td>165.0</td>\n      <td>17.901530</td>\n      <td>...</td>\n      <td>3.441561e+12</td>\n      <td>3.478809e+12</td>\n      <td>3.283340e+12</td>\n      <td>3.417298e+12</td>\n      <td>3.542371e+12</td>\n      <td>3.556724e+12</td>\n      <td>3.567317e+12</td>\n      <td>3.624386e+12</td>\n      <td>3.685556e+12</td>\n      <td>Europe</td>\n    </tr>\n    <tr>\n      <th>India</th>\n      <td>8</td>\n      <td>15005</td>\n      <td>14841</td>\n      <td>128763</td>\n      <td>37209</td>\n      <td>8.58</td>\n      <td>115</td>\n      <td>3.319500e+10</td>\n      <td>26.0</td>\n      <td>14.969080</td>\n      <td>...</td>\n      <td>1.374865e+12</td>\n      <td>1.428361e+12</td>\n      <td>1.549483e+12</td>\n      <td>1.708459e+12</td>\n      <td>1.821872e+12</td>\n      <td>1.924235e+12</td>\n      <td>2.051982e+12</td>\n      <td>2.200617e+12</td>\n      <td>2.367206e+12</td>\n      <td>Asia</td>\n    </tr>\n    <tr>\n      <th>France</th>\n      <td>9</td>\n      <td>13153</td>\n      <td>12973</td>\n      <td>130632</td>\n      <td>28601</td>\n      <td>9.93</td>\n      <td>114</td>\n      <td>1.059700e+10</td>\n      <td>166.0</td>\n      <td>17.020280</td>\n      <td>...</td>\n      <td>2.669424e+12</td>\n      <td>2.674637e+12</td>\n      <td>2.595967e+12</td>\n      <td>2.646995e+12</td>\n      <td>2.702032e+12</td>\n      <td>2.706968e+12</td>\n      <td>2.722567e+12</td>\n      <td>2.729632e+12</td>\n      <td>2.761185e+12</td>\n      <td>Europe</td>\n    </tr>\n    <tr>\n      <th>South Korea</th>\n      <td>10</td>\n      <td>11983</td>\n      <td>11923</td>\n      <td>114675</td>\n      <td>22595</td>\n      <td>9.57</td>\n      <td>104</td>\n      <td>1.100700e+10</td>\n      <td>221.0</td>\n      <td>2.279353</td>\n      <td>...</td>\n      <td>9.924316e+11</td>\n      <td>1.020510e+12</td>\n      <td>1.027730e+12</td>\n      <td>1.094499e+12</td>\n      <td>1.134796e+12</td>\n      <td>1.160809e+12</td>\n      <td>1.194429e+12</td>\n      <td>1.234340e+12</td>\n      <td>1.266580e+12</td>\n      <td>Asia</td>\n    </tr>\n    <tr>\n      <th>Italy</th>\n      <td>11</td>\n      <td>10964</td>\n      <td>10794</td>\n      <td>111850</td>\n      <td>26661</td>\n      <td>10.20</td>\n      <td>106</td>\n      <td>6.530000e+09</td>\n      <td>109.0</td>\n      <td>33.667230</td>\n      <td>...</td>\n      <td>2.234627e+12</td>\n      <td>2.211154e+12</td>\n      <td>2.089938e+12</td>\n      <td>2.125185e+12</td>\n      <td>2.137439e+12</td>\n      <td>2.077184e+12</td>\n      <td>2.040871e+12</td>\n      <td>2.033868e+12</td>\n      <td>2.049316e+12</td>\n      <td>Europe</td>\n    </tr>\n    <tr>\n      <th>Spain</th>\n      <td>12</td>\n      <td>9428</td>\n      <td>9330</td>\n      <td>123336</td>\n      <td>23964</td>\n      <td>13.08</td>\n      <td>115</td>\n      <td>4.923000e+09</td>\n      <td>106.0</td>\n      <td>37.968590</td>\n      <td>...</td>\n      <td>1.468146e+12</td>\n      <td>1.484530e+12</td>\n      <td>1.431475e+12</td>\n      <td>1.431673e+12</td>\n      <td>1.417355e+12</td>\n      <td>1.380216e+12</td>\n      <td>1.357139e+12</td>\n      <td>1.375605e+12</td>\n      <td>1.419821e+12</td>\n      <td>Europe</td>\n    </tr>\n    <tr>\n      <th>Iran</th>\n      <td>13</td>\n      <td>8896</td>\n      <td>8819</td>\n      <td>57470</td>\n      <td>19125</td>\n      <td>6.46</td>\n      <td>72</td>\n      <td>9.172000e+09</td>\n      <td>119.0</td>\n      <td>5.707721</td>\n      <td>...</td>\n      <td>4.250646e+11</td>\n      <td>4.289909e+11</td>\n      <td>4.389208e+11</td>\n      <td>4.677902e+11</td>\n      <td>4.853309e+11</td>\n      <td>4.532569e+11</td>\n      <td>4.445926e+11</td>\n      <td>4.639027e+11</td>\n      <td>NaN</td>\n      <td>Asia</td>\n    </tr>\n    <tr>\n      <th>Australia</th>\n      <td>14</td>\n      <td>8831</td>\n      <td>8725</td>\n      <td>90765</td>\n      <td>15606</td>\n      <td>10.28</td>\n      <td>107</td>\n      <td>5.386000e+09</td>\n      <td>231.0</td>\n      <td>11.810810</td>\n      <td>...</td>\n      <td>1.060340e+12</td>\n      <td>1.099644e+12</td>\n      <td>1.119654e+12</td>\n      <td>1.142251e+12</td>\n      <td>1.169431e+12</td>\n      <td>1.211913e+12</td>\n      <td>1.241484e+12</td>\n      <td>1.272520e+12</td>\n      <td>1.301251e+12</td>\n      <td>Australia</td>\n    </tr>\n    <tr>\n      <th>Brazil</th>\n      <td>15</td>\n      <td>8668</td>\n      <td>8596</td>\n      <td>60702</td>\n      <td>14396</td>\n      <td>7.00</td>\n      <td>86</td>\n      <td>1.214900e+10</td>\n      <td>59.0</td>\n      <td>69.648030</td>\n      <td>...</td>\n      <td>1.957118e+12</td>\n      <td>2.056809e+12</td>\n      <td>2.054215e+12</td>\n      <td>2.208872e+12</td>\n      <td>2.295245e+12</td>\n      <td>2.339209e+12</td>\n      <td>2.409740e+12</td>\n      <td>2.412231e+12</td>\n      <td>2.319423e+12</td>\n      <td>South America</td>\n    </tr>\n  </tbody>\n</table>\n<p>15 rows × 21 columns</p>\n</div>"
     },
     "metadata": {},
     "execution_count": 204
    }
   ],
   "source": [
    "Top15 = answer_one()\n",
    "ContinentDict = {'China':'Asia', \n",
    "                  'United States':'North America', \n",
    "                  'Japan':'Asia', \n",
    "                  'United Kingdom':'Europe', \n",
    "                  'Russian Federation':'Europe', \n",
    "                  'Canada':'North America', \n",
    "                  'Germany':'Europe', \n",
    "                  'India':'Asia',\n",
    "                  'France':'Europe', \n",
    "                  'South Korea':'Asia', \n",
    "                  'Italy':'Europe', \n",
    "                  'Spain':'Europe', \n",
    "                  'Iran':'Asia',\n",
    "                  'Australia':'Australia', \n",
    "                  'Brazil':'South America'}\n",
    "\n",
    "Continent = pd.DataFrame.from_dict(ContinentDict, orient='index')\n",
    "\n",
    "Top15 = pd.merge(Top15, Continent, how='inner', left_index=True, right_index=True)\n",
    "Top15\n"
   ]
  },
  {
   "cell_type": "code",
   "execution_count": null,
   "metadata": {},
   "outputs": [],
   "source": [
    "Energy['Energy Supply'] = Energy['Energy Supply'].apply(lambda x: x * 1000000)"
   ]
  },
  {
   "cell_type": "code",
   "execution_count": 178,
   "metadata": {},
   "outputs": [
    {
     "output_type": "execute_result",
     "data": {
      "text/plain": [
       "                    Rank  Documents  Citable documents  Citations  \\\n",
       "Country                                                             \n",
       "China                  1     127050             126767     597237   \n",
       "United States          2      96661              94747     792274   \n",
       "Japan                  3      30504              30287     223024   \n",
       "United Kingdom         4      20944              20357     206091   \n",
       "Russian Federation     5      18534              18301      34266   \n",
       "Canada                 6      17899              17620     215003   \n",
       "Germany                7      17027              16831     140566   \n",
       "India                  8      15005              14841     128763   \n",
       "France                 9      13153              12973     130632   \n",
       "South Korea           10      11983              11923     114675   \n",
       "Italy                 11      10964              10794     111850   \n",
       "Spain                 12       9428               9330     123336   \n",
       "Iran                  13       8896               8819      57470   \n",
       "Australia             14       8831               8725      90765   \n",
       "Brazil                15       8668               8596      60702   \n",
       "\n",
       "                    Self-citations  Citations per document  H index  \\\n",
       "Country                                                               \n",
       "China                       411683                    4.70      138   \n",
       "United States               265436                    8.20      230   \n",
       "Japan                        61554                    7.31      134   \n",
       "United Kingdom               37874                    9.84      139   \n",
       "Russian Federation           12422                    1.85       57   \n",
       "Canada                       40930                   12.01      149   \n",
       "Germany                      27426                    8.26      126   \n",
       "India                        37209                    8.58      115   \n",
       "France                       28601                    9.93      114   \n",
       "South Korea                  22595                    9.57      104   \n",
       "Italy                        26661                   10.20      106   \n",
       "Spain                        23964                   13.08      115   \n",
       "Iran                         19125                    6.46       72   \n",
       "Australia                    15606                   10.28      107   \n",
       "Brazil                       14396                    7.00       86   \n",
       "\n",
       "                    Energy Supply  Energy Supply per Capita  % Renewable  \\\n",
       "Country                                                                    \n",
       "China                1.271910e+11                      93.0    19.754910   \n",
       "United States        9.083800e+10                     286.0    11.570980   \n",
       "Japan                1.898400e+10                     149.0    10.232820   \n",
       "United Kingdom       7.920000e+09                     124.0    10.600470   \n",
       "Russian Federation   3.070900e+10                     214.0    17.288680   \n",
       "Canada               1.043100e+10                     296.0    61.945430   \n",
       "Germany              1.326100e+10                     165.0    17.901530   \n",
       "India                3.319500e+10                      26.0    14.969080   \n",
       "France               1.059700e+10                     166.0    17.020280   \n",
       "South Korea          1.100700e+10                     221.0     2.279353   \n",
       "Italy                6.530000e+09                     109.0    33.667230   \n",
       "Spain                4.923000e+09                     106.0    37.968590   \n",
       "Iran                 9.172000e+09                     119.0     5.707721   \n",
       "Australia            5.386000e+09                     231.0    11.810810   \n",
       "Brazil               1.214900e+10                      59.0    69.648030   \n",
       "\n",
       "                            2006          2007          2008          2009  \\\n",
       "Country                                                                      \n",
       "China               3.992331e+12  4.559041e+12  4.997775e+12  5.459247e+12   \n",
       "United States       1.479230e+13  1.505540e+13  1.501149e+13  1.459484e+13   \n",
       "Japan               5.496542e+12  5.617036e+12  5.558527e+12  5.251308e+12   \n",
       "United Kingdom      2.419631e+12  2.482203e+12  2.470614e+12  2.367048e+12   \n",
       "Russian Federation  1.385793e+12  1.504071e+12  1.583004e+12  1.459199e+12   \n",
       "Canada              1.564469e+12  1.596740e+12  1.612713e+12  1.565145e+12   \n",
       "Germany             3.332891e+12  3.441561e+12  3.478809e+12  3.283340e+12   \n",
       "India               1.265894e+12  1.374865e+12  1.428361e+12  1.549483e+12   \n",
       "France              2.607840e+12  2.669424e+12  2.674637e+12  2.595967e+12   \n",
       "South Korea         9.410199e+11  9.924316e+11  1.020510e+12  1.027730e+12   \n",
       "Italy               2.202170e+12  2.234627e+12  2.211154e+12  2.089938e+12   \n",
       "Spain               1.414823e+12  1.468146e+12  1.484530e+12  1.431475e+12   \n",
       "Iran                3.895523e+11  4.250646e+11  4.289909e+11  4.389208e+11   \n",
       "Australia           1.021939e+12  1.060340e+12  1.099644e+12  1.119654e+12   \n",
       "Brazil              1.845080e+12  1.957118e+12  2.056809e+12  2.054215e+12   \n",
       "\n",
       "                            2010          2011          2012          2013  \\\n",
       "Country                                                                      \n",
       "China               6.039659e+12  6.612490e+12  7.124978e+12  7.672448e+12   \n",
       "United States       1.496437e+13  1.520402e+13  1.554216e+13  1.577367e+13   \n",
       "Japan               5.498718e+12  5.473738e+12  5.569102e+12  5.644659e+12   \n",
       "United Kingdom      2.403504e+12  2.450911e+12  2.479809e+12  2.533370e+12   \n",
       "Russian Federation  1.524917e+12  1.589943e+12  1.645876e+12  1.666934e+12   \n",
       "Canada              1.613406e+12  1.664087e+12  1.693133e+12  1.730688e+12   \n",
       "Germany             3.417298e+12  3.542371e+12  3.556724e+12  3.567317e+12   \n",
       "India               1.708459e+12  1.821872e+12  1.924235e+12  2.051982e+12   \n",
       "France              2.646995e+12  2.702032e+12  2.706968e+12  2.722567e+12   \n",
       "South Korea         1.094499e+12  1.134796e+12  1.160809e+12  1.194429e+12   \n",
       "Italy               2.125185e+12  2.137439e+12  2.077184e+12  2.040871e+12   \n",
       "Spain               1.431673e+12  1.417355e+12  1.380216e+12  1.357139e+12   \n",
       "Iran                4.677902e+11  4.853309e+11  4.532569e+11  4.445926e+11   \n",
       "Australia           1.142251e+12  1.169431e+12  1.211913e+12  1.241484e+12   \n",
       "Brazil              2.208872e+12  2.295245e+12  2.339209e+12  2.409740e+12   \n",
       "\n",
       "                            2014          2015  \n",
       "Country                                         \n",
       "China               8.230121e+12  8.797999e+12  \n",
       "United States       1.615662e+13  1.654857e+13  \n",
       "Japan               5.642884e+12  5.669563e+12  \n",
       "United Kingdom      2.605643e+12  2.666333e+12  \n",
       "Russian Federation  1.678709e+12  1.616149e+12  \n",
       "Canada              1.773486e+12  1.792609e+12  \n",
       "Germany             3.624386e+12  3.685556e+12  \n",
       "India               2.200617e+12  2.367206e+12  \n",
       "France              2.729632e+12  2.761185e+12  \n",
       "South Korea         1.234340e+12  1.266580e+12  \n",
       "Italy               2.033868e+12  2.049316e+12  \n",
       "Spain               1.375605e+12  1.419821e+12  \n",
       "Iran                4.639027e+11           NaN  \n",
       "Australia           1.272520e+12  1.301251e+12  \n",
       "Brazil              2.412231e+12  2.319423e+12  "
      ],
      "text/html": "<div>\n<style scoped>\n    .dataframe tbody tr th:only-of-type {\n        vertical-align: middle;\n    }\n\n    .dataframe tbody tr th {\n        vertical-align: top;\n    }\n\n    .dataframe thead th {\n        text-align: right;\n    }\n</style>\n<table border=\"1\" class=\"dataframe\">\n  <thead>\n    <tr style=\"text-align: right;\">\n      <th></th>\n      <th>Rank</th>\n      <th>Documents</th>\n      <th>Citable documents</th>\n      <th>Citations</th>\n      <th>Self-citations</th>\n      <th>Citations per document</th>\n      <th>H index</th>\n      <th>Energy Supply</th>\n      <th>Energy Supply per Capita</th>\n      <th>% Renewable</th>\n      <th>2006</th>\n      <th>2007</th>\n      <th>2008</th>\n      <th>2009</th>\n      <th>2010</th>\n      <th>2011</th>\n      <th>2012</th>\n      <th>2013</th>\n      <th>2014</th>\n      <th>2015</th>\n    </tr>\n    <tr>\n      <th>Country</th>\n      <th></th>\n      <th></th>\n      <th></th>\n      <th></th>\n      <th></th>\n      <th></th>\n      <th></th>\n      <th></th>\n      <th></th>\n      <th></th>\n      <th></th>\n      <th></th>\n      <th></th>\n      <th></th>\n      <th></th>\n      <th></th>\n      <th></th>\n      <th></th>\n      <th></th>\n      <th></th>\n    </tr>\n  </thead>\n  <tbody>\n    <tr>\n      <th>China</th>\n      <td>1</td>\n      <td>127050</td>\n      <td>126767</td>\n      <td>597237</td>\n      <td>411683</td>\n      <td>4.70</td>\n      <td>138</td>\n      <td>1.271910e+11</td>\n      <td>93.0</td>\n      <td>19.754910</td>\n      <td>3.992331e+12</td>\n      <td>4.559041e+12</td>\n      <td>4.997775e+12</td>\n      <td>5.459247e+12</td>\n      <td>6.039659e+12</td>\n      <td>6.612490e+12</td>\n      <td>7.124978e+12</td>\n      <td>7.672448e+12</td>\n      <td>8.230121e+12</td>\n      <td>8.797999e+12</td>\n    </tr>\n    <tr>\n      <th>United States</th>\n      <td>2</td>\n      <td>96661</td>\n      <td>94747</td>\n      <td>792274</td>\n      <td>265436</td>\n      <td>8.20</td>\n      <td>230</td>\n      <td>9.083800e+10</td>\n      <td>286.0</td>\n      <td>11.570980</td>\n      <td>1.479230e+13</td>\n      <td>1.505540e+13</td>\n      <td>1.501149e+13</td>\n      <td>1.459484e+13</td>\n      <td>1.496437e+13</td>\n      <td>1.520402e+13</td>\n      <td>1.554216e+13</td>\n      <td>1.577367e+13</td>\n      <td>1.615662e+13</td>\n      <td>1.654857e+13</td>\n    </tr>\n    <tr>\n      <th>Japan</th>\n      <td>3</td>\n      <td>30504</td>\n      <td>30287</td>\n      <td>223024</td>\n      <td>61554</td>\n      <td>7.31</td>\n      <td>134</td>\n      <td>1.898400e+10</td>\n      <td>149.0</td>\n      <td>10.232820</td>\n      <td>5.496542e+12</td>\n      <td>5.617036e+12</td>\n      <td>5.558527e+12</td>\n      <td>5.251308e+12</td>\n      <td>5.498718e+12</td>\n      <td>5.473738e+12</td>\n      <td>5.569102e+12</td>\n      <td>5.644659e+12</td>\n      <td>5.642884e+12</td>\n      <td>5.669563e+12</td>\n    </tr>\n    <tr>\n      <th>United Kingdom</th>\n      <td>4</td>\n      <td>20944</td>\n      <td>20357</td>\n      <td>206091</td>\n      <td>37874</td>\n      <td>9.84</td>\n      <td>139</td>\n      <td>7.920000e+09</td>\n      <td>124.0</td>\n      <td>10.600470</td>\n      <td>2.419631e+12</td>\n      <td>2.482203e+12</td>\n      <td>2.470614e+12</td>\n      <td>2.367048e+12</td>\n      <td>2.403504e+12</td>\n      <td>2.450911e+12</td>\n      <td>2.479809e+12</td>\n      <td>2.533370e+12</td>\n      <td>2.605643e+12</td>\n      <td>2.666333e+12</td>\n    </tr>\n    <tr>\n      <th>Russian Federation</th>\n      <td>5</td>\n      <td>18534</td>\n      <td>18301</td>\n      <td>34266</td>\n      <td>12422</td>\n      <td>1.85</td>\n      <td>57</td>\n      <td>3.070900e+10</td>\n      <td>214.0</td>\n      <td>17.288680</td>\n      <td>1.385793e+12</td>\n      <td>1.504071e+12</td>\n      <td>1.583004e+12</td>\n      <td>1.459199e+12</td>\n      <td>1.524917e+12</td>\n      <td>1.589943e+12</td>\n      <td>1.645876e+12</td>\n      <td>1.666934e+12</td>\n      <td>1.678709e+12</td>\n      <td>1.616149e+12</td>\n    </tr>\n    <tr>\n      <th>Canada</th>\n      <td>6</td>\n      <td>17899</td>\n      <td>17620</td>\n      <td>215003</td>\n      <td>40930</td>\n      <td>12.01</td>\n      <td>149</td>\n      <td>1.043100e+10</td>\n      <td>296.0</td>\n      <td>61.945430</td>\n      <td>1.564469e+12</td>\n      <td>1.596740e+12</td>\n      <td>1.612713e+12</td>\n      <td>1.565145e+12</td>\n      <td>1.613406e+12</td>\n      <td>1.664087e+12</td>\n      <td>1.693133e+12</td>\n      <td>1.730688e+12</td>\n      <td>1.773486e+12</td>\n      <td>1.792609e+12</td>\n    </tr>\n    <tr>\n      <th>Germany</th>\n      <td>7</td>\n      <td>17027</td>\n      <td>16831</td>\n      <td>140566</td>\n      <td>27426</td>\n      <td>8.26</td>\n      <td>126</td>\n      <td>1.326100e+10</td>\n      <td>165.0</td>\n      <td>17.901530</td>\n      <td>3.332891e+12</td>\n      <td>3.441561e+12</td>\n      <td>3.478809e+12</td>\n      <td>3.283340e+12</td>\n      <td>3.417298e+12</td>\n      <td>3.542371e+12</td>\n      <td>3.556724e+12</td>\n      <td>3.567317e+12</td>\n      <td>3.624386e+12</td>\n      <td>3.685556e+12</td>\n    </tr>\n    <tr>\n      <th>India</th>\n      <td>8</td>\n      <td>15005</td>\n      <td>14841</td>\n      <td>128763</td>\n      <td>37209</td>\n      <td>8.58</td>\n      <td>115</td>\n      <td>3.319500e+10</td>\n      <td>26.0</td>\n      <td>14.969080</td>\n      <td>1.265894e+12</td>\n      <td>1.374865e+12</td>\n      <td>1.428361e+12</td>\n      <td>1.549483e+12</td>\n      <td>1.708459e+12</td>\n      <td>1.821872e+12</td>\n      <td>1.924235e+12</td>\n      <td>2.051982e+12</td>\n      <td>2.200617e+12</td>\n      <td>2.367206e+12</td>\n    </tr>\n    <tr>\n      <th>France</th>\n      <td>9</td>\n      <td>13153</td>\n      <td>12973</td>\n      <td>130632</td>\n      <td>28601</td>\n      <td>9.93</td>\n      <td>114</td>\n      <td>1.059700e+10</td>\n      <td>166.0</td>\n      <td>17.020280</td>\n      <td>2.607840e+12</td>\n      <td>2.669424e+12</td>\n      <td>2.674637e+12</td>\n      <td>2.595967e+12</td>\n      <td>2.646995e+12</td>\n      <td>2.702032e+12</td>\n      <td>2.706968e+12</td>\n      <td>2.722567e+12</td>\n      <td>2.729632e+12</td>\n      <td>2.761185e+12</td>\n    </tr>\n    <tr>\n      <th>South Korea</th>\n      <td>10</td>\n      <td>11983</td>\n      <td>11923</td>\n      <td>114675</td>\n      <td>22595</td>\n      <td>9.57</td>\n      <td>104</td>\n      <td>1.100700e+10</td>\n      <td>221.0</td>\n      <td>2.279353</td>\n      <td>9.410199e+11</td>\n      <td>9.924316e+11</td>\n      <td>1.020510e+12</td>\n      <td>1.027730e+12</td>\n      <td>1.094499e+12</td>\n      <td>1.134796e+12</td>\n      <td>1.160809e+12</td>\n      <td>1.194429e+12</td>\n      <td>1.234340e+12</td>\n      <td>1.266580e+12</td>\n    </tr>\n    <tr>\n      <th>Italy</th>\n      <td>11</td>\n      <td>10964</td>\n      <td>10794</td>\n      <td>111850</td>\n      <td>26661</td>\n      <td>10.20</td>\n      <td>106</td>\n      <td>6.530000e+09</td>\n      <td>109.0</td>\n      <td>33.667230</td>\n      <td>2.202170e+12</td>\n      <td>2.234627e+12</td>\n      <td>2.211154e+12</td>\n      <td>2.089938e+12</td>\n      <td>2.125185e+12</td>\n      <td>2.137439e+12</td>\n      <td>2.077184e+12</td>\n      <td>2.040871e+12</td>\n      <td>2.033868e+12</td>\n      <td>2.049316e+12</td>\n    </tr>\n    <tr>\n      <th>Spain</th>\n      <td>12</td>\n      <td>9428</td>\n      <td>9330</td>\n      <td>123336</td>\n      <td>23964</td>\n      <td>13.08</td>\n      <td>115</td>\n      <td>4.923000e+09</td>\n      <td>106.0</td>\n      <td>37.968590</td>\n      <td>1.414823e+12</td>\n      <td>1.468146e+12</td>\n      <td>1.484530e+12</td>\n      <td>1.431475e+12</td>\n      <td>1.431673e+12</td>\n      <td>1.417355e+12</td>\n      <td>1.380216e+12</td>\n      <td>1.357139e+12</td>\n      <td>1.375605e+12</td>\n      <td>1.419821e+12</td>\n    </tr>\n    <tr>\n      <th>Iran</th>\n      <td>13</td>\n      <td>8896</td>\n      <td>8819</td>\n      <td>57470</td>\n      <td>19125</td>\n      <td>6.46</td>\n      <td>72</td>\n      <td>9.172000e+09</td>\n      <td>119.0</td>\n      <td>5.707721</td>\n      <td>3.895523e+11</td>\n      <td>4.250646e+11</td>\n      <td>4.289909e+11</td>\n      <td>4.389208e+11</td>\n      <td>4.677902e+11</td>\n      <td>4.853309e+11</td>\n      <td>4.532569e+11</td>\n      <td>4.445926e+11</td>\n      <td>4.639027e+11</td>\n      <td>NaN</td>\n    </tr>\n    <tr>\n      <th>Australia</th>\n      <td>14</td>\n      <td>8831</td>\n      <td>8725</td>\n      <td>90765</td>\n      <td>15606</td>\n      <td>10.28</td>\n      <td>107</td>\n      <td>5.386000e+09</td>\n      <td>231.0</td>\n      <td>11.810810</td>\n      <td>1.021939e+12</td>\n      <td>1.060340e+12</td>\n      <td>1.099644e+12</td>\n      <td>1.119654e+12</td>\n      <td>1.142251e+12</td>\n      <td>1.169431e+12</td>\n      <td>1.211913e+12</td>\n      <td>1.241484e+12</td>\n      <td>1.272520e+12</td>\n      <td>1.301251e+12</td>\n    </tr>\n    <tr>\n      <th>Brazil</th>\n      <td>15</td>\n      <td>8668</td>\n      <td>8596</td>\n      <td>60702</td>\n      <td>14396</td>\n      <td>7.00</td>\n      <td>86</td>\n      <td>1.214900e+10</td>\n      <td>59.0</td>\n      <td>69.648030</td>\n      <td>1.845080e+12</td>\n      <td>1.957118e+12</td>\n      <td>2.056809e+12</td>\n      <td>2.054215e+12</td>\n      <td>2.208872e+12</td>\n      <td>2.295245e+12</td>\n      <td>2.339209e+12</td>\n      <td>2.409740e+12</td>\n      <td>2.412231e+12</td>\n      <td>2.319423e+12</td>\n    </tr>\n  </tbody>\n</table>\n</div>"
     },
     "metadata": {},
     "execution_count": 178
    }
   ],
   "source": [
    "answer_one()"
   ]
  },
  {
   "cell_type": "code",
   "execution_count": null,
   "metadata": {},
   "outputs": [],
   "source": []
  }
 ]
}